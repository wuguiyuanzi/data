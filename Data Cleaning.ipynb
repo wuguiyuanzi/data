{
 "cells": [
  {
   "cell_type": "code",
   "execution_count": 2,
   "metadata": {},
   "outputs": [],
   "source": [
    "import pandas as pd\n",
    "import numpy as np"
   ]
  },
  {
   "cell_type": "code",
   "execution_count": 3,
   "metadata": {},
   "outputs": [],
   "source": [
    "price = pd.read_csv('price.csv')\n",
    "pop = pd.read_csv('population.csv')\n",
    "income = pd.read_csv('disposable.csv')\n",
    "money = pd.read_csv('money.csv')"
   ]
  },
  {
   "cell_type": "markdown",
   "metadata": {},
   "source": [
    "# PRICE"
   ]
  },
  {
   "cell_type": "code",
   "execution_count": 4,
   "metadata": {},
   "outputs": [
    {
     "data": {
      "text/html": [
       "<div>\n",
       "<style scoped>\n",
       "    .dataframe tbody tr th:only-of-type {\n",
       "        vertical-align: middle;\n",
       "    }\n",
       "\n",
       "    .dataframe tbody tr th {\n",
       "        vertical-align: top;\n",
       "    }\n",
       "\n",
       "    .dataframe thead th {\n",
       "        text-align: right;\n",
       "    }\n",
       "</style>\n",
       "<table border=\"1\" class=\"dataframe\">\n",
       "  <thead>\n",
       "    <tr style=\"text-align: right;\">\n",
       "      <th></th>\n",
       "      <th>年份</th>\n",
       "      <th>北京:新建商品住宅价格指数:当月环比</th>\n",
       "      <th>天津:新建商品住宅价格指数:当月环比</th>\n",
       "      <th>石家庄:新建商品住宅价格指数:当月环比</th>\n",
       "      <th>太原:新建商品住宅价格指数:当月环比</th>\n",
       "      <th>呼和浩特:新建商品住宅价格指数:当月环比</th>\n",
       "      <th>沈阳:新建商品住宅价格指数:当月环比</th>\n",
       "      <th>大连:新建商品住宅价格指数:当月环比</th>\n",
       "      <th>长春:新建商品住宅价格指数:当月环比</th>\n",
       "      <th>哈尔滨:新建商品住宅价格指数:当月环比</th>\n",
       "      <th>...</th>\n",
       "      <th>惠州:新建商品住宅价格指数:当月环比</th>\n",
       "      <th>湛江:新建商品住宅价格指数:当月环比</th>\n",
       "      <th>韶关:新建商品住宅价格指数:当月环比</th>\n",
       "      <th>桂林:新建商品住宅价格指数:当月环比</th>\n",
       "      <th>北海:新建商品住宅价格指数:当月环比</th>\n",
       "      <th>三亚:新建商品住宅价格指数:当月环比</th>\n",
       "      <th>泸州:新建商品住宅价格指数:当月环比</th>\n",
       "      <th>南充:新建商品住宅价格指数:当月环比</th>\n",
       "      <th>遵义:新建商品住宅价格指数:当月环比</th>\n",
       "      <th>大理:新建商品住宅价格指数:当月环比</th>\n",
       "    </tr>\n",
       "  </thead>\n",
       "  <tbody>\n",
       "    <tr>\n",
       "      <th>0</th>\n",
       "      <td>2021</td>\n",
       "      <td>62326.09222</td>\n",
       "      <td>25810.12106</td>\n",
       "      <td>14730.71958</td>\n",
       "      <td>11558.251790</td>\n",
       "      <td>11191.480730</td>\n",
       "      <td>12057.780280</td>\n",
       "      <td>18024.25651</td>\n",
       "      <td>9565.267340</td>\n",
       "      <td>9589.190077</td>\n",
       "      <td>...</td>\n",
       "      <td>11548.892740</td>\n",
       "      <td>10826.222120</td>\n",
       "      <td>6154.218183</td>\n",
       "      <td>6960.802068</td>\n",
       "      <td>6171.969893</td>\n",
       "      <td>38364.39012</td>\n",
       "      <td>6542.291025</td>\n",
       "      <td>6342.333072</td>\n",
       "      <td>6052.709701</td>\n",
       "      <td>13114.519800</td>\n",
       "    </tr>\n",
       "    <tr>\n",
       "      <th>1</th>\n",
       "      <td>2020</td>\n",
       "      <td>59738.79954</td>\n",
       "      <td>24917.02232</td>\n",
       "      <td>14417.57701</td>\n",
       "      <td>11718.936020</td>\n",
       "      <td>10899.244630</td>\n",
       "      <td>11542.818700</td>\n",
       "      <td>17088.71499</td>\n",
       "      <td>9410.717349</td>\n",
       "      <td>9613.224108</td>\n",
       "      <td>...</td>\n",
       "      <td>10952.698410</td>\n",
       "      <td>10529.450960</td>\n",
       "      <td>6029.605470</td>\n",
       "      <td>6871.549559</td>\n",
       "      <td>6355.109448</td>\n",
       "      <td>36414.98310</td>\n",
       "      <td>6585.520380</td>\n",
       "      <td>6390.673693</td>\n",
       "      <td>5982.775408</td>\n",
       "      <td>13246.514600</td>\n",
       "    </tr>\n",
       "    <tr>\n",
       "      <th>2</th>\n",
       "      <td>2019</td>\n",
       "      <td>57549.03897</td>\n",
       "      <td>24756.88849</td>\n",
       "      <td>13648.69946</td>\n",
       "      <td>11572.626240</td>\n",
       "      <td>9772.957638</td>\n",
       "      <td>10624.206440</td>\n",
       "      <td>16140.75984</td>\n",
       "      <td>8773.008009</td>\n",
       "      <td>9018.848016</td>\n",
       "      <td>...</td>\n",
       "      <td>10270.005060</td>\n",
       "      <td>10367.138120</td>\n",
       "      <td>6093.087479</td>\n",
       "      <td>6607.327898</td>\n",
       "      <td>6183.307909</td>\n",
       "      <td>34512.13334</td>\n",
       "      <td>6729.491467</td>\n",
       "      <td>6372.137607</td>\n",
       "      <td>5898.229569</td>\n",
       "      <td>12278.468290</td>\n",
       "    </tr>\n",
       "    <tr>\n",
       "      <th>3</th>\n",
       "      <td>2018</td>\n",
       "      <td>55397.90708</td>\n",
       "      <td>24302.31175</td>\n",
       "      <td>11786.96383</td>\n",
       "      <td>10499.877960</td>\n",
       "      <td>8105.681383</td>\n",
       "      <td>9551.914125</td>\n",
       "      <td>14393.44173</td>\n",
       "      <td>7899.424135</td>\n",
       "      <td>7976.936553</td>\n",
       "      <td>...</td>\n",
       "      <td>9953.405897</td>\n",
       "      <td>9652.395059</td>\n",
       "      <td>5852.109121</td>\n",
       "      <td>6022.711879</td>\n",
       "      <td>5533.549634</td>\n",
       "      <td>31749.61013</td>\n",
       "      <td>6238.517704</td>\n",
       "      <td>5814.736694</td>\n",
       "      <td>5314.876704</td>\n",
       "      <td>10165.370810</td>\n",
       "    </tr>\n",
       "    <tr>\n",
       "      <th>4</th>\n",
       "      <td>2017</td>\n",
       "      <td>55398.86918</td>\n",
       "      <td>24034.80690</td>\n",
       "      <td>11186.74504</td>\n",
       "      <td>9688.155721</td>\n",
       "      <td>7273.922619</td>\n",
       "      <td>8577.504372</td>\n",
       "      <td>12837.07110</td>\n",
       "      <td>7173.569597</td>\n",
       "      <td>7105.370283</td>\n",
       "      <td>...</td>\n",
       "      <td>9625.009929</td>\n",
       "      <td>9015.260764</td>\n",
       "      <td>5541.824701</td>\n",
       "      <td>5592.286051</td>\n",
       "      <td>5018.023874</td>\n",
       "      <td>28823.07290</td>\n",
       "      <td>5727.437779</td>\n",
       "      <td>5205.399780</td>\n",
       "      <td>4826.252154</td>\n",
       "      <td>9190.488136</td>\n",
       "    </tr>\n",
       "  </tbody>\n",
       "</table>\n",
       "<p>5 rows × 71 columns</p>\n",
       "</div>"
      ],
      "text/plain": [
       "     年份  北京:新建商品住宅价格指数:当月环比  天津:新建商品住宅价格指数:当月环比  石家庄:新建商品住宅价格指数:当月环比  \\\n",
       "0  2021         62326.09222         25810.12106          14730.71958   \n",
       "1  2020         59738.79954         24917.02232          14417.57701   \n",
       "2  2019         57549.03897         24756.88849          13648.69946   \n",
       "3  2018         55397.90708         24302.31175          11786.96383   \n",
       "4  2017         55398.86918         24034.80690          11186.74504   \n",
       "\n",
       "   太原:新建商品住宅价格指数:当月环比  呼和浩特:新建商品住宅价格指数:当月环比  沈阳:新建商品住宅价格指数:当月环比  \\\n",
       "0        11558.251790          11191.480730        12057.780280   \n",
       "1        11718.936020          10899.244630        11542.818700   \n",
       "2        11572.626240           9772.957638        10624.206440   \n",
       "3        10499.877960           8105.681383         9551.914125   \n",
       "4         9688.155721           7273.922619         8577.504372   \n",
       "\n",
       "   大连:新建商品住宅价格指数:当月环比  长春:新建商品住宅价格指数:当月环比  哈尔滨:新建商品住宅价格指数:当月环比  ...  \\\n",
       "0         18024.25651         9565.267340          9589.190077  ...   \n",
       "1         17088.71499         9410.717349          9613.224108  ...   \n",
       "2         16140.75984         8773.008009          9018.848016  ...   \n",
       "3         14393.44173         7899.424135          7976.936553  ...   \n",
       "4         12837.07110         7173.569597          7105.370283  ...   \n",
       "\n",
       "   惠州:新建商品住宅价格指数:当月环比  湛江:新建商品住宅价格指数:当月环比  韶关:新建商品住宅价格指数:当月环比  \\\n",
       "0        11548.892740        10826.222120         6154.218183   \n",
       "1        10952.698410        10529.450960         6029.605470   \n",
       "2        10270.005060        10367.138120         6093.087479   \n",
       "3         9953.405897         9652.395059         5852.109121   \n",
       "4         9625.009929         9015.260764         5541.824701   \n",
       "\n",
       "   桂林:新建商品住宅价格指数:当月环比  北海:新建商品住宅价格指数:当月环比  三亚:新建商品住宅价格指数:当月环比  \\\n",
       "0         6960.802068         6171.969893         38364.39012   \n",
       "1         6871.549559         6355.109448         36414.98310   \n",
       "2         6607.327898         6183.307909         34512.13334   \n",
       "3         6022.711879         5533.549634         31749.61013   \n",
       "4         5592.286051         5018.023874         28823.07290   \n",
       "\n",
       "   泸州:新建商品住宅价格指数:当月环比  南充:新建商品住宅价格指数:当月环比  遵义:新建商品住宅价格指数:当月环比  \\\n",
       "0         6542.291025         6342.333072         6052.709701   \n",
       "1         6585.520380         6390.673693         5982.775408   \n",
       "2         6729.491467         6372.137607         5898.229569   \n",
       "3         6238.517704         5814.736694         5314.876704   \n",
       "4         5727.437779         5205.399780         4826.252154   \n",
       "\n",
       "   大理:新建商品住宅价格指数:当月环比  \n",
       "0        13114.519800  \n",
       "1        13246.514600  \n",
       "2        12278.468290  \n",
       "3        10165.370810  \n",
       "4         9190.488136  \n",
       "\n",
       "[5 rows x 71 columns]"
      ]
     },
     "execution_count": 4,
     "metadata": {},
     "output_type": "execute_result"
    }
   ],
   "source": [
    "price.head()"
   ]
  },
  {
   "cell_type": "code",
   "execution_count": 5,
   "metadata": {},
   "outputs": [],
   "source": [
    "price = price.dropna()"
   ]
  },
  {
   "cell_type": "code",
   "execution_count": 6,
   "metadata": {},
   "outputs": [],
   "source": [
    "PriceClean= pd.melt(price, id_vars = '年份')"
   ]
  },
  {
   "cell_type": "code",
   "execution_count": 7,
   "metadata": {},
   "outputs": [],
   "source": [
    "PriceClean.columns = ['年份','城市','新建商品住宅价格（元/m^2）']\n",
    "price_split = PriceClean['城市'].str.split(':')\n",
    "PriceClean['城市'] = price_split.str.get(0)"
   ]
  },
  {
   "cell_type": "code",
   "execution_count": 8,
   "metadata": {},
   "outputs": [],
   "source": [
    "citysplit = PriceClean['城市'].str.split('市')\n",
    "PriceClean['城市'] = citysplit.str.get(0)"
   ]
  },
  {
   "cell_type": "code",
   "execution_count": 9,
   "metadata": {},
   "outputs": [
    {
     "data": {
      "text/html": [
       "<div>\n",
       "<style scoped>\n",
       "    .dataframe tbody tr th:only-of-type {\n",
       "        vertical-align: middle;\n",
       "    }\n",
       "\n",
       "    .dataframe tbody tr th {\n",
       "        vertical-align: top;\n",
       "    }\n",
       "\n",
       "    .dataframe thead th {\n",
       "        text-align: right;\n",
       "    }\n",
       "</style>\n",
       "<table border=\"1\" class=\"dataframe\">\n",
       "  <thead>\n",
       "    <tr style=\"text-align: right;\">\n",
       "      <th></th>\n",
       "      <th>年份</th>\n",
       "      <th>城市</th>\n",
       "      <th>新建商品住宅价格（元/m^2）</th>\n",
       "    </tr>\n",
       "  </thead>\n",
       "  <tbody>\n",
       "    <tr>\n",
       "      <th>1115</th>\n",
       "      <td>2010</td>\n",
       "      <td>大理</td>\n",
       "      <td>8628.968874</td>\n",
       "    </tr>\n",
       "    <tr>\n",
       "      <th>1116</th>\n",
       "      <td>2009</td>\n",
       "      <td>大理</td>\n",
       "      <td>8183.017605</td>\n",
       "    </tr>\n",
       "    <tr>\n",
       "      <th>1117</th>\n",
       "      <td>2008</td>\n",
       "      <td>大理</td>\n",
       "      <td>7984.796723</td>\n",
       "    </tr>\n",
       "    <tr>\n",
       "      <th>1118</th>\n",
       "      <td>2007</td>\n",
       "      <td>大理</td>\n",
       "      <td>7358.391587</td>\n",
       "    </tr>\n",
       "    <tr>\n",
       "      <th>1119</th>\n",
       "      <td>2006</td>\n",
       "      <td>大理</td>\n",
       "      <td>6763.206970</td>\n",
       "    </tr>\n",
       "  </tbody>\n",
       "</table>\n",
       "</div>"
      ],
      "text/plain": [
       "        年份  城市  新建商品住宅价格（元/m^2）\n",
       "1115  2010  大理      8628.968874\n",
       "1116  2009  大理      8183.017605\n",
       "1117  2008  大理      7984.796723\n",
       "1118  2007  大理      7358.391587\n",
       "1119  2006  大理      6763.206970"
      ]
     },
     "execution_count": 9,
     "metadata": {},
     "output_type": "execute_result"
    }
   ],
   "source": [
    "PriceClean.tail()"
   ]
  },
  {
   "cell_type": "code",
   "execution_count": 10,
   "metadata": {},
   "outputs": [
    {
     "name": "stdout",
     "output_type": "stream",
     "text": [
      "<class 'pandas.core.frame.DataFrame'>\n",
      "RangeIndex: 1120 entries, 0 to 1119\n",
      "Data columns (total 3 columns):\n",
      " #   Column           Non-Null Count  Dtype  \n",
      "---  ------           --------------  -----  \n",
      " 0   年份               1120 non-null   int64  \n",
      " 1   城市               1120 non-null   object \n",
      " 2   新建商品住宅价格（元/m^2）  1120 non-null   float64\n",
      "dtypes: float64(1), int64(1), object(1)\n",
      "memory usage: 26.4+ KB\n"
     ]
    }
   ],
   "source": [
    "PriceClean.info()"
   ]
  },
  {
   "cell_type": "code",
   "execution_count": 11,
   "metadata": {},
   "outputs": [
    {
     "data": {
      "text/plain": [
       "(1120, 3)"
      ]
     },
     "execution_count": 11,
     "metadata": {},
     "output_type": "execute_result"
    }
   ],
   "source": [
    "PriceClean.shape"
   ]
  },
  {
   "cell_type": "markdown",
   "metadata": {},
   "source": [
    "# POPULATION"
   ]
  },
  {
   "cell_type": "code",
   "execution_count": 12,
   "metadata": {},
   "outputs": [],
   "source": [
    "pop = pop.dropna()\n",
    "pop = pop.drop([0,1])"
   ]
  },
  {
   "cell_type": "code",
   "execution_count": 13,
   "metadata": {},
   "outputs": [],
   "source": [
    "PopClean= pd.melt(pop, id_vars = '指标名称')\n",
    "PopClean.columns = ['年份','城市','人口（万人）']"
   ]
  },
  {
   "cell_type": "code",
   "execution_count": 14,
   "metadata": {},
   "outputs": [],
   "source": [
    "pop_split = PopClean['城市'].str.split(':')\n",
    "PopClean['城市'] = pop_split.str.get(0)\n",
    "PopClean['类型'] = pop_split.str.get(1)\n",
    "year_split = PopClean['年份'].str.split('-')\n",
    "PopClean['年份'] = year_split.str.get(0)"
   ]
  },
  {
   "cell_type": "code",
   "execution_count": 15,
   "metadata": {},
   "outputs": [],
   "source": [
    "citysplit = PopClean['城市'].str.split('市')\n",
    "PopClean['城市'] = citysplit.str.get(0)"
   ]
  },
  {
   "cell_type": "code",
   "execution_count": 16,
   "metadata": {},
   "outputs": [
    {
     "data": {
      "text/html": [
       "<div>\n",
       "<style scoped>\n",
       "    .dataframe tbody tr th:only-of-type {\n",
       "        vertical-align: middle;\n",
       "    }\n",
       "\n",
       "    .dataframe tbody tr th {\n",
       "        vertical-align: top;\n",
       "    }\n",
       "\n",
       "    .dataframe thead th {\n",
       "        text-align: right;\n",
       "    }\n",
       "</style>\n",
       "<table border=\"1\" class=\"dataframe\">\n",
       "  <thead>\n",
       "    <tr style=\"text-align: right;\">\n",
       "      <th></th>\n",
       "      <th>年份</th>\n",
       "      <th>城市</th>\n",
       "      <th>人口（万人）</th>\n",
       "      <th>类型</th>\n",
       "    </tr>\n",
       "  </thead>\n",
       "  <tbody>\n",
       "    <tr>\n",
       "      <th>1045</th>\n",
       "      <td>2010</td>\n",
       "      <td>大理州</td>\n",
       "      <td>346.00</td>\n",
       "      <td>总人口</td>\n",
       "    </tr>\n",
       "    <tr>\n",
       "      <th>1046</th>\n",
       "      <td>2009</td>\n",
       "      <td>大理州</td>\n",
       "      <td>350.80</td>\n",
       "      <td>总人口</td>\n",
       "    </tr>\n",
       "    <tr>\n",
       "      <th>1047</th>\n",
       "      <td>2008</td>\n",
       "      <td>大理州</td>\n",
       "      <td>349.30</td>\n",
       "      <td>总人口</td>\n",
       "    </tr>\n",
       "    <tr>\n",
       "      <th>1048</th>\n",
       "      <td>2007</td>\n",
       "      <td>大理州</td>\n",
       "      <td>348.00</td>\n",
       "      <td>总人口</td>\n",
       "    </tr>\n",
       "    <tr>\n",
       "      <th>1049</th>\n",
       "      <td>2006</td>\n",
       "      <td>大理州</td>\n",
       "      <td>348.60</td>\n",
       "      <td>总人口</td>\n",
       "    </tr>\n",
       "  </tbody>\n",
       "</table>\n",
       "</div>"
      ],
      "text/plain": [
       "        年份   城市  人口（万人）   类型\n",
       "1045  2010  大理州  346.00  总人口\n",
       "1046  2009  大理州  350.80  总人口\n",
       "1047  2008  大理州  349.30  总人口\n",
       "1048  2007  大理州  348.00  总人口\n",
       "1049  2006  大理州  348.60  总人口"
      ]
     },
     "execution_count": 16,
     "metadata": {},
     "output_type": "execute_result"
    }
   ],
   "source": [
    "PopClean.tail()"
   ]
  },
  {
   "cell_type": "code",
   "execution_count": 17,
   "metadata": {},
   "outputs": [],
   "source": [
    "PopClean['年份'] = PopClean['年份'].astype('int64')"
   ]
  },
  {
   "cell_type": "code",
   "execution_count": 18,
   "metadata": {},
   "outputs": [
    {
     "name": "stdout",
     "output_type": "stream",
     "text": [
      "<class 'pandas.core.frame.DataFrame'>\n",
      "RangeIndex: 1050 entries, 0 to 1049\n",
      "Data columns (total 4 columns):\n",
      " #   Column  Non-Null Count  Dtype \n",
      "---  ------  --------------  ----- \n",
      " 0   年份      1050 non-null   int64 \n",
      " 1   城市      1050 non-null   object\n",
      " 2   人口（万人）  1050 non-null   object\n",
      " 3   类型      1050 non-null   object\n",
      "dtypes: int64(1), object(3)\n",
      "memory usage: 32.9+ KB\n"
     ]
    }
   ],
   "source": [
    "PopClean.info()"
   ]
  },
  {
   "cell_type": "code",
   "execution_count": 19,
   "metadata": {},
   "outputs": [
    {
     "data": {
      "text/plain": [
       "(1050, 4)"
      ]
     },
     "execution_count": 19,
     "metadata": {},
     "output_type": "execute_result"
    }
   ],
   "source": [
    "PopClean.shape"
   ]
  },
  {
   "cell_type": "markdown",
   "metadata": {},
   "source": [
    "# INCOME"
   ]
  },
  {
   "cell_type": "code",
   "execution_count": 20,
   "metadata": {},
   "outputs": [
    {
     "data": {
      "text/html": [
       "<div>\n",
       "<style scoped>\n",
       "    .dataframe tbody tr th:only-of-type {\n",
       "        vertical-align: middle;\n",
       "    }\n",
       "\n",
       "    .dataframe tbody tr th {\n",
       "        vertical-align: top;\n",
       "    }\n",
       "\n",
       "    .dataframe thead th {\n",
       "        text-align: right;\n",
       "    }\n",
       "</style>\n",
       "<table border=\"1\" class=\"dataframe\">\n",
       "  <thead>\n",
       "    <tr style=\"text-align: right;\">\n",
       "      <th></th>\n",
       "      <th>指标名称</th>\n",
       "      <th>北京:职工平均工资</th>\n",
       "      <th>天津:职工平均工资</th>\n",
       "      <th>石家庄市:职工平均工资</th>\n",
       "      <th>承德市:职工平均工资</th>\n",
       "      <th>张家口市:职工平均工资</th>\n",
       "      <th>秦皇岛市:职工平均工资</th>\n",
       "      <th>唐山市:职工平均工资</th>\n",
       "      <th>保定市:职工平均工资</th>\n",
       "      <th>衡水市:职工平均工资</th>\n",
       "      <th>...</th>\n",
       "      <th>昆明市:职工平均工资</th>\n",
       "      <th>曲靖市:职工平均工资</th>\n",
       "      <th>西安市:职工平均工资</th>\n",
       "      <th>汉中市:职工平均工资</th>\n",
       "      <th>兰州市:职工平均工资</th>\n",
       "      <th>白银市:职工平均工资</th>\n",
       "      <th>西宁市市辖区:职工平均工资</th>\n",
       "      <th>西宁市:职工平均工资</th>\n",
       "      <th>银川市:职工平均工资</th>\n",
       "      <th>乌鲁木齐市:职工平均工资</th>\n",
       "    </tr>\n",
       "  </thead>\n",
       "  <tbody>\n",
       "    <tr>\n",
       "      <th>0</th>\n",
       "      <td>频率</td>\n",
       "      <td>年</td>\n",
       "      <td>年</td>\n",
       "      <td>年</td>\n",
       "      <td>年</td>\n",
       "      <td>年</td>\n",
       "      <td>年</td>\n",
       "      <td>年</td>\n",
       "      <td>年</td>\n",
       "      <td>年</td>\n",
       "      <td>...</td>\n",
       "      <td>年</td>\n",
       "      <td>年</td>\n",
       "      <td>年</td>\n",
       "      <td>年</td>\n",
       "      <td>年</td>\n",
       "      <td>年</td>\n",
       "      <td>年</td>\n",
       "      <td>年</td>\n",
       "      <td>年</td>\n",
       "      <td>年</td>\n",
       "    </tr>\n",
       "    <tr>\n",
       "      <th>1</th>\n",
       "      <td>单位</td>\n",
       "      <td>元</td>\n",
       "      <td>元</td>\n",
       "      <td>元</td>\n",
       "      <td>元</td>\n",
       "      <td>元</td>\n",
       "      <td>元</td>\n",
       "      <td>元</td>\n",
       "      <td>元</td>\n",
       "      <td>元</td>\n",
       "      <td>...</td>\n",
       "      <td>元</td>\n",
       "      <td>元</td>\n",
       "      <td>元</td>\n",
       "      <td>元</td>\n",
       "      <td>元</td>\n",
       "      <td>元</td>\n",
       "      <td>元</td>\n",
       "      <td>元</td>\n",
       "      <td>元</td>\n",
       "      <td>元</td>\n",
       "    </tr>\n",
       "    <tr>\n",
       "      <th>2</th>\n",
       "      <td>2019-12-31</td>\n",
       "      <td>173205.00</td>\n",
       "      <td>111602.00</td>\n",
       "      <td>78937.00</td>\n",
       "      <td>69365.00</td>\n",
       "      <td>70937.00</td>\n",
       "      <td>80184.00</td>\n",
       "      <td>77990.00</td>\n",
       "      <td>71315.00</td>\n",
       "      <td>64590.00</td>\n",
       "      <td>...</td>\n",
       "      <td>94063.00</td>\n",
       "      <td>79179.00</td>\n",
       "      <td>96867.00</td>\n",
       "      <td>69926.00</td>\n",
       "      <td>88393.00</td>\n",
       "      <td>74018.00</td>\n",
       "      <td>94219.00</td>\n",
       "      <td>91494.00</td>\n",
       "      <td>94559.00</td>\n",
       "      <td>90729.00</td>\n",
       "    </tr>\n",
       "    <tr>\n",
       "      <th>3</th>\n",
       "      <td>2018-12-31</td>\n",
       "      <td>149843.00</td>\n",
       "      <td>103931.00</td>\n",
       "      <td>75114.00</td>\n",
       "      <td>65558.00</td>\n",
       "      <td>69520.00</td>\n",
       "      <td>75131.00</td>\n",
       "      <td>74569.00</td>\n",
       "      <td>66548.00</td>\n",
       "      <td>62877.00</td>\n",
       "      <td>...</td>\n",
       "      <td>80253.00</td>\n",
       "      <td>72248.00</td>\n",
       "      <td>87125.00</td>\n",
       "      <td>65916.00</td>\n",
       "      <td>85575.00</td>\n",
       "      <td>66477.00</td>\n",
       "      <td>85631.00</td>\n",
       "      <td>84071.00</td>\n",
       "      <td>87291.00</td>\n",
       "      <td>85990.00</td>\n",
       "    </tr>\n",
       "    <tr>\n",
       "      <th>4</th>\n",
       "      <td>2017-12-31</td>\n",
       "      <td>134994.00</td>\n",
       "      <td>96965.00</td>\n",
       "      <td>67880.00</td>\n",
       "      <td>60270.00</td>\n",
       "      <td>63976.00</td>\n",
       "      <td>70753.00</td>\n",
       "      <td>66843.00</td>\n",
       "      <td>63835.00</td>\n",
       "      <td>58014.00</td>\n",
       "      <td>...</td>\n",
       "      <td>76350.00</td>\n",
       "      <td>63591.00</td>\n",
       "      <td>77774.00</td>\n",
       "      <td>60395.00</td>\n",
       "      <td>75709.00</td>\n",
       "      <td>60464.00</td>\n",
       "      <td>69783.00</td>\n",
       "      <td>73540.00</td>\n",
       "      <td>77206.00</td>\n",
       "      <td>78072.00</td>\n",
       "    </tr>\n",
       "  </tbody>\n",
       "</table>\n",
       "<p>5 rows × 85 columns</p>\n",
       "</div>"
      ],
      "text/plain": [
       "         指标名称  北京:职工平均工资  天津:职工平均工资 石家庄市:职工平均工资 承德市:职工平均工资 张家口市:职工平均工资  \\\n",
       "0          频率          年          年           年          年           年   \n",
       "1          单位          元          元           元          元           元   \n",
       "2  2019-12-31  173205.00  111602.00    78937.00   69365.00    70937.00   \n",
       "3  2018-12-31  149843.00  103931.00    75114.00   65558.00    69520.00   \n",
       "4  2017-12-31  134994.00   96965.00    67880.00   60270.00    63976.00   \n",
       "\n",
       "  秦皇岛市:职工平均工资 唐山市:职工平均工资 保定市:职工平均工资 衡水市:职工平均工资  ... 昆明市:职工平均工资 曲靖市:职工平均工资  \\\n",
       "0           年          年          年          年  ...          年          年   \n",
       "1           元          元          元          元  ...          元          元   \n",
       "2    80184.00   77990.00   71315.00   64590.00  ...   94063.00   79179.00   \n",
       "3    75131.00   74569.00   66548.00   62877.00  ...   80253.00   72248.00   \n",
       "4    70753.00   66843.00   63835.00   58014.00  ...   76350.00   63591.00   \n",
       "\n",
       "  西安市:职工平均工资 汉中市:职工平均工资 兰州市:职工平均工资 白银市:职工平均工资 西宁市市辖区:职工平均工资 西宁市:职工平均工资  \\\n",
       "0          年          年          年          年             年          年   \n",
       "1          元          元          元          元             元          元   \n",
       "2   96867.00   69926.00   88393.00   74018.00      94219.00   91494.00   \n",
       "3   87125.00   65916.00   85575.00   66477.00      85631.00   84071.00   \n",
       "4   77774.00   60395.00   75709.00   60464.00      69783.00   73540.00   \n",
       "\n",
       "  银川市:职工平均工资 乌鲁木齐市:职工平均工资  \n",
       "0          年            年  \n",
       "1          元            元  \n",
       "2   94559.00     90729.00  \n",
       "3   87291.00     85990.00  \n",
       "4   77206.00     78072.00  \n",
       "\n",
       "[5 rows x 85 columns]"
      ]
     },
     "execution_count": 20,
     "metadata": {},
     "output_type": "execute_result"
    }
   ],
   "source": [
    "income.head()"
   ]
  },
  {
   "cell_type": "code",
   "execution_count": 21,
   "metadata": {},
   "outputs": [],
   "source": [
    "income = income.dropna()\n",
    "income = income.drop([0,1])"
   ]
  },
  {
   "cell_type": "code",
   "execution_count": 22,
   "metadata": {},
   "outputs": [],
   "source": [
    "IncomeClean= pd.melt(income, id_vars = '指标名称')\n",
    "IncomeClean.columns = ['年份','城市','平均工资（元）']"
   ]
  },
  {
   "cell_type": "code",
   "execution_count": 23,
   "metadata": {},
   "outputs": [],
   "source": [
    "income_split = IncomeClean['城市'].str.split(':')"
   ]
  },
  {
   "cell_type": "code",
   "execution_count": 24,
   "metadata": {},
   "outputs": [],
   "source": [
    "IncomeClean['城市'] = income_split.str.get(0)"
   ]
  },
  {
   "cell_type": "code",
   "execution_count": 25,
   "metadata": {},
   "outputs": [],
   "source": [
    "year_split = IncomeClean['年份'].str.split('-')"
   ]
  },
  {
   "cell_type": "code",
   "execution_count": 26,
   "metadata": {},
   "outputs": [],
   "source": [
    "IncomeClean['年份'] = year_split.str.get(0)"
   ]
  },
  {
   "cell_type": "code",
   "execution_count": 27,
   "metadata": {},
   "outputs": [],
   "source": [
    "citysplit = IncomeClean['城市'].str.split('市')\n",
    "IncomeClean['城市'] = citysplit.str.get(0)"
   ]
  },
  {
   "cell_type": "code",
   "execution_count": 28,
   "metadata": {},
   "outputs": [
    {
     "data": {
      "text/html": [
       "<div>\n",
       "<style scoped>\n",
       "    .dataframe tbody tr th:only-of-type {\n",
       "        vertical-align: middle;\n",
       "    }\n",
       "\n",
       "    .dataframe tbody tr th {\n",
       "        vertical-align: top;\n",
       "    }\n",
       "\n",
       "    .dataframe thead th {\n",
       "        text-align: right;\n",
       "    }\n",
       "</style>\n",
       "<table border=\"1\" class=\"dataframe\">\n",
       "  <thead>\n",
       "    <tr style=\"text-align: right;\">\n",
       "      <th></th>\n",
       "      <th>年份</th>\n",
       "      <th>城市</th>\n",
       "      <th>平均工资（元）</th>\n",
       "    </tr>\n",
       "  </thead>\n",
       "  <tbody>\n",
       "    <tr>\n",
       "      <th>1675</th>\n",
       "      <td>2004</td>\n",
       "      <td>乌鲁木齐</td>\n",
       "      <td>18773.46</td>\n",
       "    </tr>\n",
       "    <tr>\n",
       "      <th>1676</th>\n",
       "      <td>2003</td>\n",
       "      <td>乌鲁木齐</td>\n",
       "      <td>16509.34</td>\n",
       "    </tr>\n",
       "    <tr>\n",
       "      <th>1677</th>\n",
       "      <td>2002</td>\n",
       "      <td>乌鲁木齐</td>\n",
       "      <td>14075.05</td>\n",
       "    </tr>\n",
       "    <tr>\n",
       "      <th>1678</th>\n",
       "      <td>2001</td>\n",
       "      <td>乌鲁木齐</td>\n",
       "      <td>12920.97</td>\n",
       "    </tr>\n",
       "    <tr>\n",
       "      <th>1679</th>\n",
       "      <td>2000</td>\n",
       "      <td>乌鲁木齐</td>\n",
       "      <td>10597.00</td>\n",
       "    </tr>\n",
       "  </tbody>\n",
       "</table>\n",
       "</div>"
      ],
      "text/plain": [
       "        年份    城市   平均工资（元）\n",
       "1675  2004  乌鲁木齐  18773.46\n",
       "1676  2003  乌鲁木齐  16509.34\n",
       "1677  2002  乌鲁木齐  14075.05\n",
       "1678  2001  乌鲁木齐  12920.97\n",
       "1679  2000  乌鲁木齐  10597.00"
      ]
     },
     "execution_count": 28,
     "metadata": {},
     "output_type": "execute_result"
    }
   ],
   "source": [
    "IncomeClean.tail()"
   ]
  },
  {
   "cell_type": "code",
   "execution_count": 29,
   "metadata": {},
   "outputs": [
    {
     "name": "stdout",
     "output_type": "stream",
     "text": [
      "<class 'pandas.core.frame.DataFrame'>\n",
      "RangeIndex: 1680 entries, 0 to 1679\n",
      "Data columns (total 3 columns):\n",
      " #   Column   Non-Null Count  Dtype \n",
      "---  ------   --------------  ----- \n",
      " 0   年份       1680 non-null   int64 \n",
      " 1   城市       1680 non-null   object\n",
      " 2   平均工资（元）  1680 non-null   object\n",
      "dtypes: int64(1), object(2)\n",
      "memory usage: 39.5+ KB\n"
     ]
    }
   ],
   "source": [
    "IncomeClean['年份'] = IncomeClean['年份'].astype('int64')\n",
    "IncomeClean.info()"
   ]
  },
  {
   "cell_type": "code",
   "execution_count": 30,
   "metadata": {},
   "outputs": [
    {
     "data": {
      "text/plain": [
       "(1680, 3)"
      ]
     },
     "execution_count": 30,
     "metadata": {},
     "output_type": "execute_result"
    }
   ],
   "source": [
    "IncomeClean.shape"
   ]
  },
  {
   "cell_type": "code",
   "execution_count": 31,
   "metadata": {},
   "outputs": [],
   "source": [
    "IncomeClean['平均工资（元）'] = IncomeClean['平均工资（元）'].astype('float')"
   ]
  },
  {
   "cell_type": "code",
   "execution_count": 32,
   "metadata": {},
   "outputs": [],
   "source": [
    "income_mean = IncomeClean.groupby(by=['城市']).mean()"
   ]
  },
  {
   "cell_type": "code",
   "execution_count": 33,
   "metadata": {},
   "outputs": [
    {
     "data": {
      "text/html": [
       "<div>\n",
       "<style scoped>\n",
       "    .dataframe tbody tr th:only-of-type {\n",
       "        vertical-align: middle;\n",
       "    }\n",
       "\n",
       "    .dataframe tbody tr th {\n",
       "        vertical-align: top;\n",
       "    }\n",
       "\n",
       "    .dataframe thead th {\n",
       "        text-align: right;\n",
       "    }\n",
       "</style>\n",
       "<table border=\"1\" class=\"dataframe\">\n",
       "  <thead>\n",
       "    <tr style=\"text-align: right;\">\n",
       "      <th></th>\n",
       "      <th>年份</th>\n",
       "      <th>平均工资（元）</th>\n",
       "    </tr>\n",
       "    <tr>\n",
       "      <th>城市</th>\n",
       "      <th></th>\n",
       "      <th></th>\n",
       "    </tr>\n",
       "  </thead>\n",
       "  <tbody>\n",
       "    <tr>\n",
       "      <th>三亚</th>\n",
       "      <td>2009.5</td>\n",
       "      <td>37267.0905</td>\n",
       "    </tr>\n",
       "    <tr>\n",
       "      <th>上海</th>\n",
       "      <td>2009.5</td>\n",
       "      <td>72155.7635</td>\n",
       "    </tr>\n",
       "    <tr>\n",
       "      <th>丹东</th>\n",
       "      <td>2009.5</td>\n",
       "      <td>25344.1995</td>\n",
       "    </tr>\n",
       "    <tr>\n",
       "      <th>乌鲁木齐</th>\n",
       "      <td>2009.5</td>\n",
       "      <td>43438.9815</td>\n",
       "    </tr>\n",
       "    <tr>\n",
       "      <th>九江</th>\n",
       "      <td>2009.5</td>\n",
       "      <td>30634.9440</td>\n",
       "    </tr>\n",
       "    <tr>\n",
       "      <th>...</th>\n",
       "      <td>...</td>\n",
       "      <td>...</td>\n",
       "    </tr>\n",
       "    <tr>\n",
       "      <th>长沙</th>\n",
       "      <td>2009.5</td>\n",
       "      <td>44363.5135</td>\n",
       "    </tr>\n",
       "    <tr>\n",
       "      <th>阳泉</th>\n",
       "      <td>2009.5</td>\n",
       "      <td>34755.9390</td>\n",
       "    </tr>\n",
       "    <tr>\n",
       "      <th>青岛</th>\n",
       "      <td>2009.5</td>\n",
       "      <td>43734.9745</td>\n",
       "    </tr>\n",
       "    <tr>\n",
       "      <th>韶关</th>\n",
       "      <td>2009.5</td>\n",
       "      <td>36208.8455</td>\n",
       "    </tr>\n",
       "    <tr>\n",
       "      <th>齐齐哈尔</th>\n",
       "      <td>2009.5</td>\n",
       "      <td>29408.7100</td>\n",
       "    </tr>\n",
       "  </tbody>\n",
       "</table>\n",
       "<p>82 rows × 2 columns</p>\n",
       "</div>"
      ],
      "text/plain": [
       "          年份     平均工资（元）\n",
       "城市                      \n",
       "三亚    2009.5  37267.0905\n",
       "上海    2009.5  72155.7635\n",
       "丹东    2009.5  25344.1995\n",
       "乌鲁木齐  2009.5  43438.9815\n",
       "九江    2009.5  30634.9440\n",
       "...      ...         ...\n",
       "长沙    2009.5  44363.5135\n",
       "阳泉    2009.5  34755.9390\n",
       "青岛    2009.5  43734.9745\n",
       "韶关    2009.5  36208.8455\n",
       "齐齐哈尔  2009.5  29408.7100\n",
       "\n",
       "[82 rows x 2 columns]"
      ]
     },
     "execution_count": 33,
     "metadata": {},
     "output_type": "execute_result"
    }
   ],
   "source": [
    "income_mean"
   ]
  },
  {
   "cell_type": "markdown",
   "metadata": {},
   "source": [
    "# MONEY"
   ]
  },
  {
   "cell_type": "code",
   "execution_count": 34,
   "metadata": {},
   "outputs": [
    {
     "data": {
      "text/html": [
       "<div>\n",
       "<style scoped>\n",
       "    .dataframe tbody tr th:only-of-type {\n",
       "        vertical-align: middle;\n",
       "    }\n",
       "\n",
       "    .dataframe tbody tr th {\n",
       "        vertical-align: top;\n",
       "    }\n",
       "\n",
       "    .dataframe thead th {\n",
       "        text-align: right;\n",
       "    }\n",
       "</style>\n",
       "<table border=\"1\" class=\"dataframe\">\n",
       "  <thead>\n",
       "    <tr style=\"text-align: right;\">\n",
       "      <th></th>\n",
       "      <th>年份</th>\n",
       "      <th>M2(亿元)</th>\n",
       "      <th>Unnamed: 2</th>\n",
       "    </tr>\n",
       "  </thead>\n",
       "  <tbody>\n",
       "    <tr>\n",
       "      <th>22</th>\n",
       "      <td>1999</td>\n",
       "      <td>111960.57</td>\n",
       "      <td>NaN</td>\n",
       "    </tr>\n",
       "    <tr>\n",
       "      <th>23</th>\n",
       "      <td>1998</td>\n",
       "      <td>96542.94</td>\n",
       "      <td>NaN</td>\n",
       "    </tr>\n",
       "    <tr>\n",
       "      <th>24</th>\n",
       "      <td>1997</td>\n",
       "      <td>83468.36</td>\n",
       "      <td>NaN</td>\n",
       "    </tr>\n",
       "    <tr>\n",
       "      <th>25</th>\n",
       "      <td>1996</td>\n",
       "      <td>68509.34</td>\n",
       "      <td>NaN</td>\n",
       "    </tr>\n",
       "    <tr>\n",
       "      <th>26</th>\n",
       "      <td>1995</td>\n",
       "      <td>60750.50</td>\n",
       "      <td>NaN</td>\n",
       "    </tr>\n",
       "  </tbody>\n",
       "</table>\n",
       "</div>"
      ],
      "text/plain": [
       "      年份     M2(亿元)  Unnamed: 2\n",
       "22  1999  111960.57         NaN\n",
       "23  1998   96542.94         NaN\n",
       "24  1997   83468.36         NaN\n",
       "25  1996   68509.34         NaN\n",
       "26  1995   60750.50         NaN"
      ]
     },
     "execution_count": 34,
     "metadata": {},
     "output_type": "execute_result"
    }
   ],
   "source": [
    "money.tail()"
   ]
  },
  {
   "cell_type": "code",
   "execution_count": 35,
   "metadata": {},
   "outputs": [],
   "source": [
    "money = money.dropna(axis='columns')"
   ]
  },
  {
   "cell_type": "code",
   "execution_count": 36,
   "metadata": {},
   "outputs": [],
   "source": [
    "MoneyClean= money"
   ]
  },
  {
   "cell_type": "code",
   "execution_count": 37,
   "metadata": {},
   "outputs": [
    {
     "data": {
      "text/html": [
       "<div>\n",
       "<style scoped>\n",
       "    .dataframe tbody tr th:only-of-type {\n",
       "        vertical-align: middle;\n",
       "    }\n",
       "\n",
       "    .dataframe tbody tr th {\n",
       "        vertical-align: top;\n",
       "    }\n",
       "\n",
       "    .dataframe thead th {\n",
       "        text-align: right;\n",
       "    }\n",
       "</style>\n",
       "<table border=\"1\" class=\"dataframe\">\n",
       "  <thead>\n",
       "    <tr style=\"text-align: right;\">\n",
       "      <th></th>\n",
       "      <th>年份</th>\n",
       "      <th>M2(亿元)</th>\n",
       "    </tr>\n",
       "  </thead>\n",
       "  <tbody>\n",
       "    <tr>\n",
       "      <th>0</th>\n",
       "      <td>2021</td>\n",
       "      <td>2274427.64</td>\n",
       "    </tr>\n",
       "    <tr>\n",
       "      <th>1</th>\n",
       "      <td>2020</td>\n",
       "      <td>2116532.13</td>\n",
       "    </tr>\n",
       "    <tr>\n",
       "      <th>2</th>\n",
       "      <td>2019</td>\n",
       "      <td>1918385.98</td>\n",
       "    </tr>\n",
       "    <tr>\n",
       "      <th>3</th>\n",
       "      <td>2018</td>\n",
       "      <td>1770223.58</td>\n",
       "    </tr>\n",
       "    <tr>\n",
       "      <th>4</th>\n",
       "      <td>2017</td>\n",
       "      <td>1626456.20</td>\n",
       "    </tr>\n",
       "  </tbody>\n",
       "</table>\n",
       "</div>"
      ],
      "text/plain": [
       "     年份      M2(亿元)\n",
       "0  2021  2274427.64\n",
       "1  2020  2116532.13\n",
       "2  2019  1918385.98\n",
       "3  2018  1770223.58\n",
       "4  2017  1626456.20"
      ]
     },
     "execution_count": 37,
     "metadata": {},
     "output_type": "execute_result"
    }
   ],
   "source": [
    "MoneyClean.head()"
   ]
  },
  {
   "cell_type": "code",
   "execution_count": 38,
   "metadata": {},
   "outputs": [
    {
     "name": "stdout",
     "output_type": "stream",
     "text": [
      "<class 'pandas.core.frame.DataFrame'>\n",
      "RangeIndex: 27 entries, 0 to 26\n",
      "Data columns (total 2 columns):\n",
      " #   Column  Non-Null Count  Dtype  \n",
      "---  ------  --------------  -----  \n",
      " 0   年份      27 non-null     int64  \n",
      " 1   M2(亿元)  27 non-null     float64\n",
      "dtypes: float64(1), int64(1)\n",
      "memory usage: 560.0 bytes\n"
     ]
    }
   ],
   "source": [
    "MoneyClean.info()"
   ]
  },
  {
   "cell_type": "code",
   "execution_count": 39,
   "metadata": {},
   "outputs": [
    {
     "data": {
      "text/plain": [
       "(27, 2)"
      ]
     },
     "execution_count": 39,
     "metadata": {},
     "output_type": "execute_result"
    }
   ],
   "source": [
    "MoneyClean.shape"
   ]
  },
  {
   "cell_type": "markdown",
   "metadata": {},
   "source": [
    "# merge"
   ]
  },
  {
   "cell_type": "code",
   "execution_count": 40,
   "metadata": {},
   "outputs": [],
   "source": [
    "Fulldf = PriceClean.merge(PopClean, on = ['年份', '城市'])"
   ]
  },
  {
   "cell_type": "code",
   "execution_count": 41,
   "metadata": {},
   "outputs": [
    {
     "data": {
      "text/plain": [
       "(1035, 5)"
      ]
     },
     "execution_count": 41,
     "metadata": {},
     "output_type": "execute_result"
    }
   ],
   "source": [
    "Fulldf.shape"
   ]
  },
  {
   "cell_type": "code",
   "execution_count": 42,
   "metadata": {},
   "outputs": [
    {
     "data": {
      "text/html": [
       "<div>\n",
       "<style scoped>\n",
       "    .dataframe tbody tr th:only-of-type {\n",
       "        vertical-align: middle;\n",
       "    }\n",
       "\n",
       "    .dataframe tbody tr th {\n",
       "        vertical-align: top;\n",
       "    }\n",
       "\n",
       "    .dataframe thead th {\n",
       "        text-align: right;\n",
       "    }\n",
       "</style>\n",
       "<table border=\"1\" class=\"dataframe\">\n",
       "  <thead>\n",
       "    <tr style=\"text-align: right;\">\n",
       "      <th></th>\n",
       "      <th>年份</th>\n",
       "      <th>城市</th>\n",
       "      <th>新建商品住宅价格（元/m^2）</th>\n",
       "      <th>人口（万人）</th>\n",
       "      <th>类型</th>\n",
       "    </tr>\n",
       "  </thead>\n",
       "  <tbody>\n",
       "    <tr>\n",
       "      <th>0</th>\n",
       "      <td>2020</td>\n",
       "      <td>北京</td>\n",
       "      <td>59738.799540</td>\n",
       "      <td>2189.31</td>\n",
       "      <td>常住人口</td>\n",
       "    </tr>\n",
       "    <tr>\n",
       "      <th>1</th>\n",
       "      <td>2019</td>\n",
       "      <td>北京</td>\n",
       "      <td>57549.038970</td>\n",
       "      <td>2153.60</td>\n",
       "      <td>常住人口</td>\n",
       "    </tr>\n",
       "    <tr>\n",
       "      <th>2</th>\n",
       "      <td>2018</td>\n",
       "      <td>北京</td>\n",
       "      <td>55397.907080</td>\n",
       "      <td>2154.20</td>\n",
       "      <td>常住人口</td>\n",
       "    </tr>\n",
       "    <tr>\n",
       "      <th>3</th>\n",
       "      <td>2017</td>\n",
       "      <td>北京</td>\n",
       "      <td>55398.869180</td>\n",
       "      <td>2170.70</td>\n",
       "      <td>常住人口</td>\n",
       "    </tr>\n",
       "    <tr>\n",
       "      <th>4</th>\n",
       "      <td>2016</td>\n",
       "      <td>北京</td>\n",
       "      <td>49387.971280</td>\n",
       "      <td>2172.90</td>\n",
       "      <td>常住人口</td>\n",
       "    </tr>\n",
       "    <tr>\n",
       "      <th>...</th>\n",
       "      <td>...</td>\n",
       "      <td>...</td>\n",
       "      <td>...</td>\n",
       "      <td>...</td>\n",
       "      <td>...</td>\n",
       "    </tr>\n",
       "    <tr>\n",
       "      <th>1030</th>\n",
       "      <td>2010</td>\n",
       "      <td>遵义</td>\n",
       "      <td>4268.428447</td>\n",
       "      <td>613.29</td>\n",
       "      <td>常住人口</td>\n",
       "    </tr>\n",
       "    <tr>\n",
       "      <th>1031</th>\n",
       "      <td>2009</td>\n",
       "      <td>遵义</td>\n",
       "      <td>4076.642595</td>\n",
       "      <td>627.37</td>\n",
       "      <td>常住人口</td>\n",
       "    </tr>\n",
       "    <tr>\n",
       "      <th>1032</th>\n",
       "      <td>2008</td>\n",
       "      <td>遵义</td>\n",
       "      <td>4009.405992</td>\n",
       "      <td>641.63</td>\n",
       "      <td>常住人口</td>\n",
       "    </tr>\n",
       "    <tr>\n",
       "      <th>1033</th>\n",
       "      <td>2007</td>\n",
       "      <td>遵义</td>\n",
       "      <td>3849.810612</td>\n",
       "      <td>653.98</td>\n",
       "      <td>常住人口</td>\n",
       "    </tr>\n",
       "    <tr>\n",
       "      <th>1034</th>\n",
       "      <td>2006</td>\n",
       "      <td>遵义</td>\n",
       "      <td>3696.721614</td>\n",
       "      <td>667.85</td>\n",
       "      <td>常住人口</td>\n",
       "    </tr>\n",
       "  </tbody>\n",
       "</table>\n",
       "<p>1035 rows × 5 columns</p>\n",
       "</div>"
      ],
      "text/plain": [
       "        年份  城市  新建商品住宅价格（元/m^2）   人口（万人）    类型\n",
       "0     2020  北京     59738.799540  2189.31  常住人口\n",
       "1     2019  北京     57549.038970  2153.60  常住人口\n",
       "2     2018  北京     55397.907080  2154.20  常住人口\n",
       "3     2017  北京     55398.869180  2170.70  常住人口\n",
       "4     2016  北京     49387.971280  2172.90  常住人口\n",
       "...    ...  ..              ...      ...   ...\n",
       "1030  2010  遵义      4268.428447   613.29  常住人口\n",
       "1031  2009  遵义      4076.642595   627.37  常住人口\n",
       "1032  2008  遵义      4009.405992   641.63  常住人口\n",
       "1033  2007  遵义      3849.810612   653.98  常住人口\n",
       "1034  2006  遵义      3696.721614   667.85  常住人口\n",
       "\n",
       "[1035 rows x 5 columns]"
      ]
     },
     "execution_count": 42,
     "metadata": {},
     "output_type": "execute_result"
    }
   ],
   "source": [
    "Fulldf"
   ]
  },
  {
   "cell_type": "code",
   "execution_count": 43,
   "metadata": {},
   "outputs": [],
   "source": [
    "Fulldf = Fulldf.merge(IncomeClean, on = ['年份', '城市'])"
   ]
  },
  {
   "cell_type": "code",
   "execution_count": 44,
   "metadata": {},
   "outputs": [
    {
     "data": {
      "text/plain": [
       "(896, 6)"
      ]
     },
     "execution_count": 44,
     "metadata": {},
     "output_type": "execute_result"
    }
   ],
   "source": [
    "Fulldf.shape"
   ]
  },
  {
   "cell_type": "code",
   "execution_count": 45,
   "metadata": {},
   "outputs": [
    {
     "data": {
      "text/html": [
       "<div>\n",
       "<style scoped>\n",
       "    .dataframe tbody tr th:only-of-type {\n",
       "        vertical-align: middle;\n",
       "    }\n",
       "\n",
       "    .dataframe tbody tr th {\n",
       "        vertical-align: top;\n",
       "    }\n",
       "\n",
       "    .dataframe thead th {\n",
       "        text-align: right;\n",
       "    }\n",
       "</style>\n",
       "<table border=\"1\" class=\"dataframe\">\n",
       "  <thead>\n",
       "    <tr style=\"text-align: right;\">\n",
       "      <th></th>\n",
       "      <th>年份</th>\n",
       "      <th>城市</th>\n",
       "      <th>新建商品住宅价格（元/m^2）</th>\n",
       "      <th>人口（万人）</th>\n",
       "      <th>类型</th>\n",
       "      <th>平均工资（元）</th>\n",
       "    </tr>\n",
       "  </thead>\n",
       "  <tbody>\n",
       "    <tr>\n",
       "      <th>0</th>\n",
       "      <td>2019</td>\n",
       "      <td>北京</td>\n",
       "      <td>57549.038970</td>\n",
       "      <td>2153.60</td>\n",
       "      <td>常住人口</td>\n",
       "      <td>173205.00</td>\n",
       "    </tr>\n",
       "    <tr>\n",
       "      <th>1</th>\n",
       "      <td>2018</td>\n",
       "      <td>北京</td>\n",
       "      <td>55397.907080</td>\n",
       "      <td>2154.20</td>\n",
       "      <td>常住人口</td>\n",
       "      <td>149843.00</td>\n",
       "    </tr>\n",
       "    <tr>\n",
       "      <th>2</th>\n",
       "      <td>2017</td>\n",
       "      <td>北京</td>\n",
       "      <td>55398.869180</td>\n",
       "      <td>2170.70</td>\n",
       "      <td>常住人口</td>\n",
       "      <td>134994.00</td>\n",
       "    </tr>\n",
       "    <tr>\n",
       "      <th>3</th>\n",
       "      <td>2016</td>\n",
       "      <td>北京</td>\n",
       "      <td>49387.971280</td>\n",
       "      <td>2172.90</td>\n",
       "      <td>常住人口</td>\n",
       "      <td>122749.00</td>\n",
       "    </tr>\n",
       "    <tr>\n",
       "      <th>4</th>\n",
       "      <td>2015</td>\n",
       "      <td>北京</td>\n",
       "      <td>40591.790440</td>\n",
       "      <td>2170.50</td>\n",
       "      <td>常住人口</td>\n",
       "      <td>113073.00</td>\n",
       "    </tr>\n",
       "    <tr>\n",
       "      <th>...</th>\n",
       "      <td>...</td>\n",
       "      <td>...</td>\n",
       "      <td>...</td>\n",
       "      <td>...</td>\n",
       "      <td>...</td>\n",
       "      <td>...</td>\n",
       "    </tr>\n",
       "    <tr>\n",
       "      <th>891</th>\n",
       "      <td>2010</td>\n",
       "      <td>遵义</td>\n",
       "      <td>4268.428447</td>\n",
       "      <td>613.29</td>\n",
       "      <td>常住人口</td>\n",
       "      <td>32923.03</td>\n",
       "    </tr>\n",
       "    <tr>\n",
       "      <th>892</th>\n",
       "      <td>2009</td>\n",
       "      <td>遵义</td>\n",
       "      <td>4076.642595</td>\n",
       "      <td>627.37</td>\n",
       "      <td>常住人口</td>\n",
       "      <td>30260.82</td>\n",
       "    </tr>\n",
       "    <tr>\n",
       "      <th>893</th>\n",
       "      <td>2008</td>\n",
       "      <td>遵义</td>\n",
       "      <td>4009.405992</td>\n",
       "      <td>641.63</td>\n",
       "      <td>常住人口</td>\n",
       "      <td>25941.73</td>\n",
       "    </tr>\n",
       "    <tr>\n",
       "      <th>894</th>\n",
       "      <td>2007</td>\n",
       "      <td>遵义</td>\n",
       "      <td>3849.810612</td>\n",
       "      <td>653.98</td>\n",
       "      <td>常住人口</td>\n",
       "      <td>21771.02</td>\n",
       "    </tr>\n",
       "    <tr>\n",
       "      <th>895</th>\n",
       "      <td>2006</td>\n",
       "      <td>遵义</td>\n",
       "      <td>3696.721614</td>\n",
       "      <td>667.85</td>\n",
       "      <td>常住人口</td>\n",
       "      <td>17940.27</td>\n",
       "    </tr>\n",
       "  </tbody>\n",
       "</table>\n",
       "<p>896 rows × 6 columns</p>\n",
       "</div>"
      ],
      "text/plain": [
       "       年份  城市  新建商品住宅价格（元/m^2）   人口（万人）    类型    平均工资（元）\n",
       "0    2019  北京     57549.038970  2153.60  常住人口  173205.00\n",
       "1    2018  北京     55397.907080  2154.20  常住人口  149843.00\n",
       "2    2017  北京     55398.869180  2170.70  常住人口  134994.00\n",
       "3    2016  北京     49387.971280  2172.90  常住人口  122749.00\n",
       "4    2015  北京     40591.790440  2170.50  常住人口  113073.00\n",
       "..    ...  ..              ...      ...   ...        ...\n",
       "891  2010  遵义      4268.428447   613.29  常住人口   32923.03\n",
       "892  2009  遵义      4076.642595   627.37  常住人口   30260.82\n",
       "893  2008  遵义      4009.405992   641.63  常住人口   25941.73\n",
       "894  2007  遵义      3849.810612   653.98  常住人口   21771.02\n",
       "895  2006  遵义      3696.721614   667.85  常住人口   17940.27\n",
       "\n",
       "[896 rows x 6 columns]"
      ]
     },
     "execution_count": 45,
     "metadata": {},
     "output_type": "execute_result"
    }
   ],
   "source": [
    "Fulldf"
   ]
  },
  {
   "cell_type": "code",
   "execution_count": 46,
   "metadata": {},
   "outputs": [],
   "source": [
    "Fulldf = Fulldf.merge(MoneyClean, on = ['年份'])"
   ]
  },
  {
   "cell_type": "code",
   "execution_count": 47,
   "metadata": {},
   "outputs": [
    {
     "data": {
      "text/plain": [
       "(896, 7)"
      ]
     },
     "execution_count": 47,
     "metadata": {},
     "output_type": "execute_result"
    }
   ],
   "source": [
    "Fulldf.shape"
   ]
  },
  {
   "cell_type": "code",
   "execution_count": 48,
   "metadata": {
    "scrolled": true
   },
   "outputs": [
    {
     "data": {
      "text/html": [
       "<div>\n",
       "<style scoped>\n",
       "    .dataframe tbody tr th:only-of-type {\n",
       "        vertical-align: middle;\n",
       "    }\n",
       "\n",
       "    .dataframe tbody tr th {\n",
       "        vertical-align: top;\n",
       "    }\n",
       "\n",
       "    .dataframe thead th {\n",
       "        text-align: right;\n",
       "    }\n",
       "</style>\n",
       "<table border=\"1\" class=\"dataframe\">\n",
       "  <thead>\n",
       "    <tr style=\"text-align: right;\">\n",
       "      <th></th>\n",
       "      <th>年份</th>\n",
       "      <th>城市</th>\n",
       "      <th>新建商品住宅价格（元/m^2）</th>\n",
       "      <th>人口（万人）</th>\n",
       "      <th>类型</th>\n",
       "      <th>平均工资（元）</th>\n",
       "      <th>M2(亿元)</th>\n",
       "    </tr>\n",
       "  </thead>\n",
       "  <tbody>\n",
       "    <tr>\n",
       "      <th>0</th>\n",
       "      <td>2019</td>\n",
       "      <td>北京</td>\n",
       "      <td>57549.038970</td>\n",
       "      <td>2153.60</td>\n",
       "      <td>常住人口</td>\n",
       "      <td>173205.00</td>\n",
       "      <td>1918385.98</td>\n",
       "    </tr>\n",
       "    <tr>\n",
       "      <th>1</th>\n",
       "      <td>2019</td>\n",
       "      <td>天津</td>\n",
       "      <td>24756.888490</td>\n",
       "      <td>1561.83</td>\n",
       "      <td>常住人口</td>\n",
       "      <td>111602.00</td>\n",
       "      <td>1918385.98</td>\n",
       "    </tr>\n",
       "    <tr>\n",
       "      <th>2</th>\n",
       "      <td>2019</td>\n",
       "      <td>石家庄</td>\n",
       "      <td>13648.699460</td>\n",
       "      <td>1103.12</td>\n",
       "      <td>常住人口</td>\n",
       "      <td>78937.00</td>\n",
       "      <td>1918385.98</td>\n",
       "    </tr>\n",
       "    <tr>\n",
       "      <th>3</th>\n",
       "      <td>2019</td>\n",
       "      <td>太原</td>\n",
       "      <td>11572.626240</td>\n",
       "      <td>446.19</td>\n",
       "      <td>常住人口</td>\n",
       "      <td>82860.00</td>\n",
       "      <td>1918385.98</td>\n",
       "    </tr>\n",
       "    <tr>\n",
       "      <th>4</th>\n",
       "      <td>2019</td>\n",
       "      <td>呼和浩特</td>\n",
       "      <td>9772.957638</td>\n",
       "      <td>313.70</td>\n",
       "      <td>年末常住人口</td>\n",
       "      <td>84105.00</td>\n",
       "      <td>1918385.98</td>\n",
       "    </tr>\n",
       "    <tr>\n",
       "      <th>...</th>\n",
       "      <td>...</td>\n",
       "      <td>...</td>\n",
       "      <td>...</td>\n",
       "      <td>...</td>\n",
       "      <td>...</td>\n",
       "      <td>...</td>\n",
       "      <td>...</td>\n",
       "    </tr>\n",
       "    <tr>\n",
       "      <th>891</th>\n",
       "      <td>2006</td>\n",
       "      <td>韶关</td>\n",
       "      <td>4179.583924</td>\n",
       "      <td>290.94</td>\n",
       "      <td>常住人口</td>\n",
       "      <td>20033.73</td>\n",
       "      <td>322611.51</td>\n",
       "    </tr>\n",
       "    <tr>\n",
       "      <th>892</th>\n",
       "      <td>2006</td>\n",
       "      <td>桂林</td>\n",
       "      <td>4567.821755</td>\n",
       "      <td>488.06</td>\n",
       "      <td>常住人口</td>\n",
       "      <td>17613.40</td>\n",
       "      <td>322611.51</td>\n",
       "    </tr>\n",
       "    <tr>\n",
       "      <th>893</th>\n",
       "      <td>2006</td>\n",
       "      <td>北海</td>\n",
       "      <td>2627.180008</td>\n",
       "      <td>157.62</td>\n",
       "      <td>常住人口</td>\n",
       "      <td>15095.79</td>\n",
       "      <td>322611.51</td>\n",
       "    </tr>\n",
       "    <tr>\n",
       "      <th>894</th>\n",
       "      <td>2006</td>\n",
       "      <td>三亚</td>\n",
       "      <td>13966.240140</td>\n",
       "      <td>524170.00</td>\n",
       "      <td>户籍人口</td>\n",
       "      <td>18490.47</td>\n",
       "      <td>322611.51</td>\n",
       "    </tr>\n",
       "    <tr>\n",
       "      <th>895</th>\n",
       "      <td>2006</td>\n",
       "      <td>遵义</td>\n",
       "      <td>3696.721614</td>\n",
       "      <td>667.85</td>\n",
       "      <td>常住人口</td>\n",
       "      <td>17940.27</td>\n",
       "      <td>322611.51</td>\n",
       "    </tr>\n",
       "  </tbody>\n",
       "</table>\n",
       "<p>896 rows × 7 columns</p>\n",
       "</div>"
      ],
      "text/plain": [
       "       年份    城市  新建商品住宅价格（元/m^2）     人口（万人）      类型    平均工资（元）      M2(亿元)\n",
       "0    2019    北京     57549.038970    2153.60    常住人口  173205.00  1918385.98\n",
       "1    2019    天津     24756.888490    1561.83    常住人口  111602.00  1918385.98\n",
       "2    2019   石家庄     13648.699460    1103.12    常住人口   78937.00  1918385.98\n",
       "3    2019    太原     11572.626240     446.19    常住人口   82860.00  1918385.98\n",
       "4    2019  呼和浩特      9772.957638     313.70  年末常住人口   84105.00  1918385.98\n",
       "..    ...   ...              ...        ...     ...        ...         ...\n",
       "891  2006    韶关      4179.583924     290.94    常住人口   20033.73   322611.51\n",
       "892  2006    桂林      4567.821755     488.06    常住人口   17613.40   322611.51\n",
       "893  2006    北海      2627.180008     157.62    常住人口   15095.79   322611.51\n",
       "894  2006    三亚     13966.240140  524170.00    户籍人口   18490.47   322611.51\n",
       "895  2006    遵义      3696.721614     667.85    常住人口   17940.27   322611.51\n",
       "\n",
       "[896 rows x 7 columns]"
      ]
     },
     "execution_count": 48,
     "metadata": {},
     "output_type": "execute_result"
    }
   ],
   "source": [
    "Fulldf"
   ]
  },
  {
   "cell_type": "code",
   "execution_count": 49,
   "metadata": {},
   "outputs": [],
   "source": [
    "Fulldf.to_csv('fulldata.csv', index=False)"
   ]
  },
  {
   "cell_type": "code",
   "execution_count": null,
   "metadata": {},
   "outputs": [],
   "source": []
  }
 ],
 "metadata": {
  "kernelspec": {
   "display_name": "Python 3",
   "language": "python",
   "name": "python3"
  },
  "language_info": {
   "codemirror_mode": {
    "name": "ipython",
    "version": 3
   },
   "file_extension": ".py",
   "mimetype": "text/x-python",
   "name": "python",
   "nbconvert_exporter": "python",
   "pygments_lexer": "ipython3",
   "version": "3.8.3"
  }
 },
 "nbformat": 4,
 "nbformat_minor": 4
}
