{
 "cells": [
  {
   "cell_type": "code",
   "execution_count": 2,
   "metadata": {},
   "outputs": [],
   "source": [
    "import pandas as pd\n",
    "import numpy as np\n",
    "from sklearn import linear_model\n",
    "from sklearn.metrics import mean_squared_error\n",
    "from sklearn.metrics import r2_score\n",
    "import statsmodels.api as sm"
   ]
  },
  {
   "cell_type": "code",
   "execution_count": 3,
   "metadata": {},
   "outputs": [],
   "source": [
    "df = pd.read_csv('fulldata.csv')"
   ]
  },
  {
   "cell_type": "code",
   "execution_count": 4,
   "metadata": {},
   "outputs": [
    {
     "data": {
      "text/html": [
       "<div>\n",
       "<style scoped>\n",
       "    .dataframe tbody tr th:only-of-type {\n",
       "        vertical-align: middle;\n",
       "    }\n",
       "\n",
       "    .dataframe tbody tr th {\n",
       "        vertical-align: top;\n",
       "    }\n",
       "\n",
       "    .dataframe thead th {\n",
       "        text-align: right;\n",
       "    }\n",
       "</style>\n",
       "<table border=\"1\" class=\"dataframe\">\n",
       "  <thead>\n",
       "    <tr style=\"text-align: right;\">\n",
       "      <th></th>\n",
       "      <th>年份</th>\n",
       "      <th>城市</th>\n",
       "      <th>新建商品住宅价格（元/m^2）</th>\n",
       "      <th>人口（万人）</th>\n",
       "      <th>类型</th>\n",
       "      <th>平均工资（元）</th>\n",
       "      <th>M2(亿元)</th>\n",
       "    </tr>\n",
       "  </thead>\n",
       "  <tbody>\n",
       "    <tr>\n",
       "      <th>0</th>\n",
       "      <td>2019</td>\n",
       "      <td>北京</td>\n",
       "      <td>57549.038970</td>\n",
       "      <td>2153.60</td>\n",
       "      <td>常住人口</td>\n",
       "      <td>173205.0</td>\n",
       "      <td>1918385.98</td>\n",
       "    </tr>\n",
       "    <tr>\n",
       "      <th>1</th>\n",
       "      <td>2019</td>\n",
       "      <td>天津</td>\n",
       "      <td>24756.888490</td>\n",
       "      <td>1561.83</td>\n",
       "      <td>常住人口</td>\n",
       "      <td>111602.0</td>\n",
       "      <td>1918385.98</td>\n",
       "    </tr>\n",
       "    <tr>\n",
       "      <th>2</th>\n",
       "      <td>2019</td>\n",
       "      <td>石家庄</td>\n",
       "      <td>13648.699460</td>\n",
       "      <td>1103.12</td>\n",
       "      <td>常住人口</td>\n",
       "      <td>78937.0</td>\n",
       "      <td>1918385.98</td>\n",
       "    </tr>\n",
       "    <tr>\n",
       "      <th>3</th>\n",
       "      <td>2019</td>\n",
       "      <td>太原</td>\n",
       "      <td>11572.626240</td>\n",
       "      <td>446.19</td>\n",
       "      <td>常住人口</td>\n",
       "      <td>82860.0</td>\n",
       "      <td>1918385.98</td>\n",
       "    </tr>\n",
       "    <tr>\n",
       "      <th>4</th>\n",
       "      <td>2019</td>\n",
       "      <td>呼和浩特</td>\n",
       "      <td>9772.957638</td>\n",
       "      <td>313.70</td>\n",
       "      <td>年末常住人口</td>\n",
       "      <td>84105.0</td>\n",
       "      <td>1918385.98</td>\n",
       "    </tr>\n",
       "  </tbody>\n",
       "</table>\n",
       "</div>"
      ],
      "text/plain": [
       "     年份    城市  新建商品住宅价格（元/m^2）   人口（万人）      类型   平均工资（元）      M2(亿元)\n",
       "0  2019    北京     57549.038970  2153.60    常住人口  173205.0  1918385.98\n",
       "1  2019    天津     24756.888490  1561.83    常住人口  111602.0  1918385.98\n",
       "2  2019   石家庄     13648.699460  1103.12    常住人口   78937.0  1918385.98\n",
       "3  2019    太原     11572.626240   446.19    常住人口   82860.0  1918385.98\n",
       "4  2019  呼和浩特      9772.957638   313.70  年末常住人口   84105.0  1918385.98"
      ]
     },
     "execution_count": 4,
     "metadata": {},
     "output_type": "execute_result"
    }
   ],
   "source": [
    "df.head()"
   ]
  },
  {
   "cell_type": "code",
   "execution_count": 5,
   "metadata": {},
   "outputs": [],
   "source": [
    "df = df[df['类型']=='常住人口']"
   ]
  },
  {
   "cell_type": "code",
   "execution_count": 6,
   "metadata": {},
   "outputs": [
    {
     "data": {
      "text/html": [
       "<div>\n",
       "<style scoped>\n",
       "    .dataframe tbody tr th:only-of-type {\n",
       "        vertical-align: middle;\n",
       "    }\n",
       "\n",
       "    .dataframe tbody tr th {\n",
       "        vertical-align: top;\n",
       "    }\n",
       "\n",
       "    .dataframe thead th {\n",
       "        text-align: right;\n",
       "    }\n",
       "</style>\n",
       "<table border=\"1\" class=\"dataframe\">\n",
       "  <thead>\n",
       "    <tr style=\"text-align: right;\">\n",
       "      <th></th>\n",
       "      <th>年份</th>\n",
       "      <th>城市</th>\n",
       "      <th>新建商品住宅价格（元/m^2）</th>\n",
       "      <th>人口（万人）</th>\n",
       "      <th>类型</th>\n",
       "      <th>平均工资（元）</th>\n",
       "      <th>M2(亿元)</th>\n",
       "    </tr>\n",
       "  </thead>\n",
       "  <tbody>\n",
       "    <tr>\n",
       "      <th>0</th>\n",
       "      <td>2019</td>\n",
       "      <td>北京</td>\n",
       "      <td>57549.038970</td>\n",
       "      <td>2153.60</td>\n",
       "      <td>常住人口</td>\n",
       "      <td>173205.00</td>\n",
       "      <td>1918385.98</td>\n",
       "    </tr>\n",
       "    <tr>\n",
       "      <th>1</th>\n",
       "      <td>2019</td>\n",
       "      <td>天津</td>\n",
       "      <td>24756.888490</td>\n",
       "      <td>1561.83</td>\n",
       "      <td>常住人口</td>\n",
       "      <td>111602.00</td>\n",
       "      <td>1918385.98</td>\n",
       "    </tr>\n",
       "    <tr>\n",
       "      <th>2</th>\n",
       "      <td>2019</td>\n",
       "      <td>石家庄</td>\n",
       "      <td>13648.699460</td>\n",
       "      <td>1103.12</td>\n",
       "      <td>常住人口</td>\n",
       "      <td>78937.00</td>\n",
       "      <td>1918385.98</td>\n",
       "    </tr>\n",
       "    <tr>\n",
       "      <th>3</th>\n",
       "      <td>2019</td>\n",
       "      <td>太原</td>\n",
       "      <td>11572.626240</td>\n",
       "      <td>446.19</td>\n",
       "      <td>常住人口</td>\n",
       "      <td>82860.00</td>\n",
       "      <td>1918385.98</td>\n",
       "    </tr>\n",
       "    <tr>\n",
       "      <th>9</th>\n",
       "      <td>2019</td>\n",
       "      <td>上海</td>\n",
       "      <td>60358.105400</td>\n",
       "      <td>2428.14</td>\n",
       "      <td>常住人口</td>\n",
       "      <td>151772.00</td>\n",
       "      <td>1918385.98</td>\n",
       "    </tr>\n",
       "    <tr>\n",
       "      <th>...</th>\n",
       "      <td>...</td>\n",
       "      <td>...</td>\n",
       "      <td>...</td>\n",
       "      <td>...</td>\n",
       "      <td>...</td>\n",
       "      <td>...</td>\n",
       "      <td>...</td>\n",
       "    </tr>\n",
       "    <tr>\n",
       "      <th>890</th>\n",
       "      <td>2006</td>\n",
       "      <td>湛江</td>\n",
       "      <td>5281.727557</td>\n",
       "      <td>685.64</td>\n",
       "      <td>常住人口</td>\n",
       "      <td>16947.20</td>\n",
       "      <td>322611.51</td>\n",
       "    </tr>\n",
       "    <tr>\n",
       "      <th>891</th>\n",
       "      <td>2006</td>\n",
       "      <td>韶关</td>\n",
       "      <td>4179.583924</td>\n",
       "      <td>290.94</td>\n",
       "      <td>常住人口</td>\n",
       "      <td>20033.73</td>\n",
       "      <td>322611.51</td>\n",
       "    </tr>\n",
       "    <tr>\n",
       "      <th>892</th>\n",
       "      <td>2006</td>\n",
       "      <td>桂林</td>\n",
       "      <td>4567.821755</td>\n",
       "      <td>488.06</td>\n",
       "      <td>常住人口</td>\n",
       "      <td>17613.40</td>\n",
       "      <td>322611.51</td>\n",
       "    </tr>\n",
       "    <tr>\n",
       "      <th>893</th>\n",
       "      <td>2006</td>\n",
       "      <td>北海</td>\n",
       "      <td>2627.180008</td>\n",
       "      <td>157.62</td>\n",
       "      <td>常住人口</td>\n",
       "      <td>15095.79</td>\n",
       "      <td>322611.51</td>\n",
       "    </tr>\n",
       "    <tr>\n",
       "      <th>895</th>\n",
       "      <td>2006</td>\n",
       "      <td>遵义</td>\n",
       "      <td>3696.721614</td>\n",
       "      <td>667.85</td>\n",
       "      <td>常住人口</td>\n",
       "      <td>17940.27</td>\n",
       "      <td>322611.51</td>\n",
       "    </tr>\n",
       "  </tbody>\n",
       "</table>\n",
       "<p>490 rows × 7 columns</p>\n",
       "</div>"
      ],
      "text/plain": [
       "       年份   城市  新建商品住宅价格（元/m^2）   人口（万人）    类型    平均工资（元）      M2(亿元)\n",
       "0    2019   北京     57549.038970  2153.60  常住人口  173205.00  1918385.98\n",
       "1    2019   天津     24756.888490  1561.83  常住人口  111602.00  1918385.98\n",
       "2    2019  石家庄     13648.699460  1103.12  常住人口   78937.00  1918385.98\n",
       "3    2019   太原     11572.626240   446.19  常住人口   82860.00  1918385.98\n",
       "9    2019   上海     60358.105400  2428.14  常住人口  151772.00  1918385.98\n",
       "..    ...  ...              ...      ...   ...        ...         ...\n",
       "890  2006   湛江      5281.727557   685.64  常住人口   16947.20   322611.51\n",
       "891  2006   韶关      4179.583924   290.94  常住人口   20033.73   322611.51\n",
       "892  2006   桂林      4567.821755   488.06  常住人口   17613.40   322611.51\n",
       "893  2006   北海      2627.180008   157.62  常住人口   15095.79   322611.51\n",
       "895  2006   遵义      3696.721614   667.85  常住人口   17940.27   322611.51\n",
       "\n",
       "[490 rows x 7 columns]"
      ]
     },
     "execution_count": 6,
     "metadata": {},
     "output_type": "execute_result"
    }
   ],
   "source": [
    "df"
   ]
  },
  {
   "cell_type": "code",
   "execution_count": 7,
   "metadata": {},
   "outputs": [],
   "source": [
    "predictors = ['人口（万人）','平均工资（元）','M2(亿元)']"
   ]
  },
  {
   "cell_type": "code",
   "execution_count": 8,
   "metadata": {},
   "outputs": [],
   "source": [
    "target = ['新建商品住宅价格（元/m^2）']"
   ]
  },
  {
   "cell_type": "code",
   "execution_count": 9,
   "metadata": {},
   "outputs": [],
   "source": [
    "reg = linear_model.LinearRegression()"
   ]
  },
  {
   "cell_type": "code",
   "execution_count": 10,
   "metadata": {},
   "outputs": [
    {
     "data": {
      "text/plain": [
       "LinearRegression()"
      ]
     },
     "execution_count": 10,
     "metadata": {},
     "output_type": "execute_result"
    }
   ],
   "source": [
    "reg.fit(df[predictors], df[target])"
   ]
  },
  {
   "cell_type": "code",
   "execution_count": 11,
   "metadata": {},
   "outputs": [
    {
     "data": {
      "text/plain": [
       "array([959.15615654])"
      ]
     },
     "execution_count": 11,
     "metadata": {},
     "output_type": "execute_result"
    }
   ],
   "source": [
    "reg.intercept_"
   ]
  },
  {
   "cell_type": "code",
   "execution_count": 12,
   "metadata": {},
   "outputs": [
    {
     "data": {
      "text/plain": [
       "array([[ 0.37946128,  0.63512223, -0.02168798]])"
      ]
     },
     "execution_count": 12,
     "metadata": {},
     "output_type": "execute_result"
    }
   ],
   "source": [
    "reg.coef_"
   ]
  },
  {
   "cell_type": "code",
   "execution_count": 13,
   "metadata": {},
   "outputs": [
    {
     "name": "stdout",
     "output_type": "stream",
     "text": [
      "RMSE: 5868\n",
      "r2: 0.7137\n"
     ]
    }
   ],
   "source": [
    "fitted = reg.predict(df[predictors])\n",
    "RMSE = np.sqrt(mean_squared_error(df[target], fitted))\n",
    "r2 = r2_score(df[target], fitted)\n",
    "print(f'RMSE: {RMSE:.0f}')\n",
    "print(f'r2: {r2:.4f}')"
   ]
  },
  {
   "cell_type": "code",
   "execution_count": 14,
   "metadata": {},
   "outputs": [
    {
     "name": "stdout",
     "output_type": "stream",
     "text": [
      "                            OLS Regression Results                            \n",
      "==============================================================================\n",
      "Dep. Variable:        新建商品住宅价格（元/m^2）   R-squared:                       0.714\n",
      "Model:                            OLS   Adj. R-squared:                  0.712\n",
      "Method:                 Least Squares   F-statistic:                     403.8\n",
      "Date:                Tue, 08 Feb 2022   Prob (F-statistic):          1.56e-131\n",
      "Time:                        19:50:14   Log-Likelihood:                -4947.1\n",
      "No. Observations:                 490   AIC:                             9902.\n",
      "Df Residuals:                     486   BIC:                             9919.\n",
      "Df Model:                           3                                         \n",
      "Covariance Type:            nonrobust                                         \n",
      "==============================================================================\n",
      "                 coef    std err          t      P>|t|      [0.025      0.975]\n",
      "------------------------------------------------------------------------------\n",
      "人口（万人）         0.3795      0.559      0.678      0.498      -0.720       1.478\n",
      "平均工资（元）        0.6351      0.023     27.131      0.000       0.589       0.681\n",
      "M2(亿元)        -0.0217      0.001    -19.633      0.000      -0.024      -0.020\n",
      "const        959.1562    686.842      1.396      0.163    -390.390    2308.703\n",
      "==============================================================================\n",
      "Omnibus:                      260.789   Durbin-Watson:                   1.998\n",
      "Prob(Omnibus):                  0.000   Jarque-Bera (JB):             2066.235\n",
      "Skew:                           2.198   Prob(JB):                         0.00\n",
      "Kurtosis:                      12.049   Cond. No.                     2.98e+06\n",
      "==============================================================================\n",
      "\n",
      "Notes:\n",
      "[1] Standard Errors assume that the covariance matrix of the errors is correctly specified.\n",
      "[2] The condition number is large, 2.98e+06. This might indicate that there are\n",
      "strong multicollinearity or other numerical problems.\n"
     ]
    }
   ],
   "source": [
    "model = sm.OLS(df[target], df[predictors].assign(const=1))\n",
    "results = model.fit()\n",
    "print(results.summary())"
   ]
  },
  {
   "cell_type": "raw",
   "metadata": {},
   "source": [
    "# conda install statsmodels"
   ]
  },
  {
   "cell_type": "code",
   "execution_count": 16,
   "metadata": {},
   "outputs": [],
   "source": [
    "predictors_= ['平均工资（元）','M2(亿元)']"
   ]
  },
  {
   "cell_type": "code",
   "execution_count": 17,
   "metadata": {},
   "outputs": [],
   "source": [
    "target_ = ['新建商品住宅价格（元/m^2）']"
   ]
  },
  {
   "cell_type": "code",
   "execution_count": 20,
   "metadata": {},
   "outputs": [
    {
     "data": {
      "text/plain": [
       "LinearRegression()"
      ]
     },
     "execution_count": 20,
     "metadata": {},
     "output_type": "execute_result"
    }
   ],
   "source": [
    "reg.fit(df[predictors_], df[target_])"
   ]
  },
  {
   "cell_type": "code",
   "execution_count": 21,
   "metadata": {},
   "outputs": [
    {
     "data": {
      "text/plain": [
       "array([1150.50021112])"
      ]
     },
     "execution_count": 21,
     "metadata": {},
     "output_type": "execute_result"
    }
   ],
   "source": [
    "reg.intercept_"
   ]
  },
  {
   "cell_type": "code",
   "execution_count": 22,
   "metadata": {},
   "outputs": [
    {
     "data": {
      "text/plain": [
       "array([[ 0.64394668, -0.02203114]])"
      ]
     },
     "execution_count": 22,
     "metadata": {},
     "output_type": "execute_result"
    }
   ],
   "source": [
    "reg.coef_"
   ]
  },
  {
   "cell_type": "code",
   "execution_count": 23,
   "metadata": {},
   "outputs": [
    {
     "name": "stdout",
     "output_type": "stream",
     "text": [
      "RMSE: 5871\n",
      "r2: 0.7134\n"
     ]
    }
   ],
   "source": [
    "fitted = reg.predict(df[predictors_])\n",
    "RMSE = np.sqrt(mean_squared_error(df[target_], fitted))\n",
    "r2 = r2_score(df[target_], fitted)\n",
    "print(f'RMSE: {RMSE:.0f}')\n",
    "print(f'r2: {r2:.4f}')"
   ]
  },
  {
   "cell_type": "code",
   "execution_count": 24,
   "metadata": {},
   "outputs": [
    {
     "name": "stdout",
     "output_type": "stream",
     "text": [
      "                            OLS Regression Results                            \n",
      "==============================================================================\n",
      "Dep. Variable:        新建商品住宅价格（元/m^2）   R-squared:                       0.713\n",
      "Model:                            OLS   Adj. R-squared:                  0.712\n",
      "Method:                 Least Squares   F-statistic:                     606.1\n",
      "Date:                Tue, 08 Feb 2022   Prob (F-statistic):          7.05e-133\n",
      "Time:                        19:51:58   Log-Likelihood:                -4947.4\n",
      "No. Observations:                 490   AIC:                             9901.\n",
      "Df Residuals:                     487   BIC:                             9913.\n",
      "Df Model:                           2                                         \n",
      "Covariance Type:            nonrobust                                         \n",
      "==============================================================================\n",
      "                 coef    std err          t      P>|t|      [0.025      0.975]\n",
      "------------------------------------------------------------------------------\n",
      "平均工资（元）        0.6439      0.019     33.104      0.000       0.606       0.682\n",
      "M2(亿元)        -0.0220      0.001    -22.446      0.000      -0.024      -0.020\n",
      "const       1150.5002    625.916      1.838      0.067     -79.328    2380.329\n",
      "==============================================================================\n",
      "Omnibus:                      256.809   Durbin-Watson:                   2.002\n",
      "Prob(Omnibus):                  0.000   Jarque-Bera (JB):             2002.794\n",
      "Skew:                           2.161   Prob(JB):                         0.00\n",
      "Kurtosis:                      11.912   Cond. No.                     2.71e+06\n",
      "==============================================================================\n",
      "\n",
      "Notes:\n",
      "[1] Standard Errors assume that the covariance matrix of the errors is correctly specified.\n",
      "[2] The condition number is large, 2.71e+06. This might indicate that there are\n",
      "strong multicollinearity or other numerical problems.\n"
     ]
    }
   ],
   "source": [
    "model = sm.OLS(df[target_], df[predictors_].assign(const=1))\n",
    "results = model.fit()\n",
    "print(results.summary())"
   ]
  },
  {
   "cell_type": "code",
   "execution_count": null,
   "metadata": {},
   "outputs": [],
   "source": []
  }
 ],
 "metadata": {
  "kernelspec": {
   "display_name": "Python 3",
   "language": "python",
   "name": "python3"
  },
  "language_info": {
   "codemirror_mode": {
    "name": "ipython",
    "version": 3
   },
   "file_extension": ".py",
   "mimetype": "text/x-python",
   "name": "python",
   "nbconvert_exporter": "python",
   "pygments_lexer": "ipython3",
   "version": "3.8.3"
  }
 },
 "nbformat": 4,
 "nbformat_minor": 4
}
