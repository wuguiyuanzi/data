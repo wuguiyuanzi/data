{
 "cells": [
  {
   "cell_type": "code",
   "execution_count": 30,
   "metadata": {},
   "outputs": [],
   "source": [
    "import pandas as pd\n",
    "import numpy as np\n",
    "import matplotlib.pyplot as plt\n",
    "from sklearn import linear_model"
   ]
  },
  {
   "cell_type": "code",
   "execution_count": 4,
   "metadata": {},
   "outputs": [],
   "source": [
    "df = pd.read_csv('fulldata.csv')"
   ]
  },
  {
   "cell_type": "code",
   "execution_count": 5,
   "metadata": {},
   "outputs": [
    {
     "data": {
      "text/html": [
       "<div>\n",
       "<style scoped>\n",
       "    .dataframe tbody tr th:only-of-type {\n",
       "        vertical-align: middle;\n",
       "    }\n",
       "\n",
       "    .dataframe tbody tr th {\n",
       "        vertical-align: top;\n",
       "    }\n",
       "\n",
       "    .dataframe thead th {\n",
       "        text-align: right;\n",
       "    }\n",
       "</style>\n",
       "<table border=\"1\" class=\"dataframe\">\n",
       "  <thead>\n",
       "    <tr style=\"text-align: right;\">\n",
       "      <th></th>\n",
       "      <th>年份</th>\n",
       "      <th>城市</th>\n",
       "      <th>新建商品住宅价格（元/m^2）</th>\n",
       "      <th>人口（万人）</th>\n",
       "      <th>类型</th>\n",
       "      <th>平均工资（元）</th>\n",
       "      <th>M2(亿元)</th>\n",
       "    </tr>\n",
       "  </thead>\n",
       "  <tbody>\n",
       "    <tr>\n",
       "      <th>0</th>\n",
       "      <td>2019</td>\n",
       "      <td>北京</td>\n",
       "      <td>23667.934020</td>\n",
       "      <td>2153.60</td>\n",
       "      <td>常住人口</td>\n",
       "      <td>173205.00</td>\n",
       "      <td>1918385.98</td>\n",
       "    </tr>\n",
       "    <tr>\n",
       "      <th>1</th>\n",
       "      <td>2019</td>\n",
       "      <td>天津</td>\n",
       "      <td>17552.821370</td>\n",
       "      <td>1561.83</td>\n",
       "      <td>常住人口</td>\n",
       "      <td>111602.00</td>\n",
       "      <td>1918385.98</td>\n",
       "    </tr>\n",
       "    <tr>\n",
       "      <th>2</th>\n",
       "      <td>2019</td>\n",
       "      <td>石家庄</td>\n",
       "      <td>9105.739406</td>\n",
       "      <td>1103.12</td>\n",
       "      <td>常住人口</td>\n",
       "      <td>78937.00</td>\n",
       "      <td>1918385.98</td>\n",
       "    </tr>\n",
       "    <tr>\n",
       "      <th>3</th>\n",
       "      <td>2019</td>\n",
       "      <td>太原</td>\n",
       "      <td>14886.494060</td>\n",
       "      <td>446.19</td>\n",
       "      <td>常住人口</td>\n",
       "      <td>82860.00</td>\n",
       "      <td>1918385.98</td>\n",
       "    </tr>\n",
       "    <tr>\n",
       "      <th>4</th>\n",
       "      <td>2019</td>\n",
       "      <td>呼和浩特</td>\n",
       "      <td>3609.250277</td>\n",
       "      <td>313.70</td>\n",
       "      <td>年末常住人口</td>\n",
       "      <td>84105.00</td>\n",
       "      <td>1918385.98</td>\n",
       "    </tr>\n",
       "    <tr>\n",
       "      <th>...</th>\n",
       "      <td>...</td>\n",
       "      <td>...</td>\n",
       "      <td>...</td>\n",
       "      <td>...</td>\n",
       "      <td>...</td>\n",
       "      <td>...</td>\n",
       "      <td>...</td>\n",
       "    </tr>\n",
       "    <tr>\n",
       "      <th>891</th>\n",
       "      <td>2006</td>\n",
       "      <td>韶关</td>\n",
       "      <td>172.364208</td>\n",
       "      <td>290.94</td>\n",
       "      <td>常住人口</td>\n",
       "      <td>20033.73</td>\n",
       "      <td>322611.51</td>\n",
       "    </tr>\n",
       "    <tr>\n",
       "      <th>892</th>\n",
       "      <td>2006</td>\n",
       "      <td>桂林</td>\n",
       "      <td>172.282071</td>\n",
       "      <td>488.06</td>\n",
       "      <td>常住人口</td>\n",
       "      <td>17613.40</td>\n",
       "      <td>322611.51</td>\n",
       "    </tr>\n",
       "    <tr>\n",
       "      <th>893</th>\n",
       "      <td>2006</td>\n",
       "      <td>北海</td>\n",
       "      <td>5.519726</td>\n",
       "      <td>157.62</td>\n",
       "      <td>常住人口</td>\n",
       "      <td>15095.79</td>\n",
       "      <td>322611.51</td>\n",
       "    </tr>\n",
       "    <tr>\n",
       "      <th>894</th>\n",
       "      <td>2006</td>\n",
       "      <td>三亚</td>\n",
       "      <td>12.698696</td>\n",
       "      <td>524170.00</td>\n",
       "      <td>户籍人口</td>\n",
       "      <td>18490.47</td>\n",
       "      <td>322611.51</td>\n",
       "    </tr>\n",
       "    <tr>\n",
       "      <th>895</th>\n",
       "      <td>2006</td>\n",
       "      <td>遵义</td>\n",
       "      <td>71.521272</td>\n",
       "      <td>667.85</td>\n",
       "      <td>常住人口</td>\n",
       "      <td>17940.27</td>\n",
       "      <td>322611.51</td>\n",
       "    </tr>\n",
       "  </tbody>\n",
       "</table>\n",
       "<p>896 rows × 7 columns</p>\n",
       "</div>"
      ],
      "text/plain": [
       "       年份    城市  新建商品住宅价格（元/m^2）     人口（万人）      类型    平均工资（元）      M2(亿元)\n",
       "0    2019    北京     23667.934020    2153.60    常住人口  173205.00  1918385.98\n",
       "1    2019    天津     17552.821370    1561.83    常住人口  111602.00  1918385.98\n",
       "2    2019   石家庄      9105.739406    1103.12    常住人口   78937.00  1918385.98\n",
       "3    2019    太原     14886.494060     446.19    常住人口   82860.00  1918385.98\n",
       "4    2019  呼和浩特      3609.250277     313.70  年末常住人口   84105.00  1918385.98\n",
       "..    ...   ...              ...        ...     ...        ...         ...\n",
       "891  2006    韶关       172.364208     290.94    常住人口   20033.73   322611.51\n",
       "892  2006    桂林       172.282071     488.06    常住人口   17613.40   322611.51\n",
       "893  2006    北海         5.519726     157.62    常住人口   15095.79   322611.51\n",
       "894  2006    三亚        12.698696  524170.00    户籍人口   18490.47   322611.51\n",
       "895  2006    遵义        71.521272     667.85    常住人口   17940.27   322611.51\n",
       "\n",
       "[896 rows x 7 columns]"
      ]
     },
     "execution_count": 5,
     "metadata": {},
     "output_type": "execute_result"
    }
   ],
   "source": [
    "df"
   ]
  },
  {
   "cell_type": "code",
   "execution_count": 8,
   "metadata": {},
   "outputs": [],
   "source": [
    "reg = linear_model.LinearRegression()"
   ]
  },
  {
   "cell_type": "code",
   "execution_count": 9,
   "metadata": {},
   "outputs": [
    {
     "data": {
      "text/plain": [
       "LinearRegression()"
      ]
     },
     "execution_count": 9,
     "metadata": {},
     "output_type": "execute_result"
    }
   ],
   "source": [
    "reg.fit(df[['人口（万人）','平均工资（元）','M2(亿元)']],df[['新建商品住宅价格（元/m^2）']])"
   ]
  },
  {
   "cell_type": "code",
   "execution_count": 10,
   "metadata": {},
   "outputs": [
    {
     "data": {
      "text/plain": [
       "array([[-1.00135264e-05,  9.61634258e-02, -9.19212297e-04]])"
      ]
     },
     "execution_count": 10,
     "metadata": {},
     "output_type": "execute_result"
    }
   ],
   "source": [
    "reg.coef_"
   ]
  },
  {
   "cell_type": "code",
   "execution_count": 11,
   "metadata": {},
   "outputs": [
    {
     "data": {
      "text/plain": [
       "array([-2538.12924153])"
      ]
     },
     "execution_count": 11,
     "metadata": {},
     "output_type": "execute_result"
    }
   ],
   "source": [
    "reg.intercept_"
   ]
  },
  {
   "cell_type": "markdown",
   "metadata": {},
   "source": [
    "# by city"
   ]
  },
  {
   "cell_type": "code",
   "execution_count": 6,
   "metadata": {},
   "outputs": [],
   "source": [
    "df_mean = df.groupby(['城市']).mean()"
   ]
  },
  {
   "cell_type": "code",
   "execution_count": 7,
   "metadata": {},
   "outputs": [
    {
     "data": {
      "text/html": [
       "<div>\n",
       "<style scoped>\n",
       "    .dataframe tbody tr th:only-of-type {\n",
       "        vertical-align: middle;\n",
       "    }\n",
       "\n",
       "    .dataframe tbody tr th {\n",
       "        vertical-align: top;\n",
       "    }\n",
       "\n",
       "    .dataframe thead th {\n",
       "        text-align: right;\n",
       "    }\n",
       "</style>\n",
       "<table border=\"1\" class=\"dataframe\">\n",
       "  <thead>\n",
       "    <tr style=\"text-align: right;\">\n",
       "      <th></th>\n",
       "      <th>年份</th>\n",
       "      <th>新建商品住宅价格（元/m^2）</th>\n",
       "      <th>人口（万人）</th>\n",
       "      <th>平均工资（元）</th>\n",
       "      <th>M2(亿元)</th>\n",
       "    </tr>\n",
       "    <tr>\n",
       "      <th>城市</th>\n",
       "      <th></th>\n",
       "      <th></th>\n",
       "      <th></th>\n",
       "      <th></th>\n",
       "      <th></th>\n",
       "    </tr>\n",
       "  </thead>\n",
       "  <tbody>\n",
       "    <tr>\n",
       "      <th>三亚</th>\n",
       "      <td>2012.5</td>\n",
       "      <td>2189.147377</td>\n",
       "      <td>5.750088e+05</td>\n",
       "      <td>48094.139286</td>\n",
       "      <td>1030796.515</td>\n",
       "    </tr>\n",
       "    <tr>\n",
       "      <th>上海</th>\n",
       "      <td>2012.5</td>\n",
       "      <td>5703.180984</td>\n",
       "      <td>2.311087e+03</td>\n",
       "      <td>91936.447857</td>\n",
       "      <td>1030796.515</td>\n",
       "    </tr>\n",
       "    <tr>\n",
       "      <th>丹东</th>\n",
       "      <td>2012.5</td>\n",
       "      <td>472.174813</td>\n",
       "      <td>2.393571e+02</td>\n",
       "      <td>31711.643571</td>\n",
       "      <td>1030796.515</td>\n",
       "    </tr>\n",
       "    <tr>\n",
       "      <th>乌鲁木齐</th>\n",
       "      <td>2012.5</td>\n",
       "      <td>1169.461188</td>\n",
       "      <td>2.425750e+02</td>\n",
       "      <td>55396.347143</td>\n",
       "      <td>1030796.515</td>\n",
       "    </tr>\n",
       "    <tr>\n",
       "      <th>九江</th>\n",
       "      <td>2012.5</td>\n",
       "      <td>503.433955</td>\n",
       "      <td>4.799051e+06</td>\n",
       "      <td>39907.712857</td>\n",
       "      <td>1030796.515</td>\n",
       "    </tr>\n",
       "    <tr>\n",
       "      <th>...</th>\n",
       "      <td>...</td>\n",
       "      <td>...</td>\n",
       "      <td>...</td>\n",
       "      <td>...</td>\n",
       "      <td>...</td>\n",
       "    </tr>\n",
       "    <tr>\n",
       "      <th>银川</th>\n",
       "      <td>2012.5</td>\n",
       "      <td>127.788320</td>\n",
       "      <td>1.988200e+06</td>\n",
       "      <td>55506.193571</td>\n",
       "      <td>1030796.515</td>\n",
       "    </tr>\n",
       "    <tr>\n",
       "      <th>长春</th>\n",
       "      <td>2012.5</td>\n",
       "      <td>613.621067</td>\n",
       "      <td>7.528800e+02</td>\n",
       "      <td>50539.362857</td>\n",
       "      <td>1030796.515</td>\n",
       "    </tr>\n",
       "    <tr>\n",
       "      <th>长沙</th>\n",
       "      <td>2012.5</td>\n",
       "      <td>400.187419</td>\n",
       "      <td>7.213393e+02</td>\n",
       "      <td>56649.422857</td>\n",
       "      <td>1030796.515</td>\n",
       "    </tr>\n",
       "    <tr>\n",
       "      <th>青岛</th>\n",
       "      <td>2012.5</td>\n",
       "      <td>1421.400473</td>\n",
       "      <td>8.894021e+02</td>\n",
       "      <td>56076.217143</td>\n",
       "      <td>1030796.515</td>\n",
       "    </tr>\n",
       "    <tr>\n",
       "      <th>韶关</th>\n",
       "      <td>2012.5</td>\n",
       "      <td>1486.434353</td>\n",
       "      <td>2.911214e+02</td>\n",
       "      <td>46007.085714</td>\n",
       "      <td>1030796.515</td>\n",
       "    </tr>\n",
       "  </tbody>\n",
       "</table>\n",
       "<p>62 rows × 5 columns</p>\n",
       "</div>"
      ],
      "text/plain": [
       "          年份  新建商品住宅价格（元/m^2）        人口（万人）       平均工资（元）       M2(亿元)\n",
       "城市                                                                    \n",
       "三亚    2012.5      2189.147377  5.750088e+05  48094.139286  1030796.515\n",
       "上海    2012.5      5703.180984  2.311087e+03  91936.447857  1030796.515\n",
       "丹东    2012.5       472.174813  2.393571e+02  31711.643571  1030796.515\n",
       "乌鲁木齐  2012.5      1169.461188  2.425750e+02  55396.347143  1030796.515\n",
       "九江    2012.5       503.433955  4.799051e+06  39907.712857  1030796.515\n",
       "...      ...              ...           ...           ...          ...\n",
       "银川    2012.5       127.788320  1.988200e+06  55506.193571  1030796.515\n",
       "长春    2012.5       613.621067  7.528800e+02  50539.362857  1030796.515\n",
       "长沙    2012.5       400.187419  7.213393e+02  56649.422857  1030796.515\n",
       "青岛    2012.5      1421.400473  8.894021e+02  56076.217143  1030796.515\n",
       "韶关    2012.5      1486.434353  2.911214e+02  46007.085714  1030796.515\n",
       "\n",
       "[62 rows x 5 columns]"
      ]
     },
     "execution_count": 7,
     "metadata": {},
     "output_type": "execute_result"
    }
   ],
   "source": [
    "df_mean"
   ]
  },
  {
   "cell_type": "code",
   "execution_count": 21,
   "metadata": {},
   "outputs": [
    {
     "data": {
      "text/plain": [
       "LinearRegression()"
      ]
     },
     "execution_count": 21,
     "metadata": {},
     "output_type": "execute_result"
    }
   ],
   "source": [
    "reg.fit(df_mean[['人口（万人）','平均工资（元）','M2(亿元)']],df_mean[['新建商品住宅价格（元/m^2）']])"
   ]
  },
  {
   "cell_type": "code",
   "execution_count": 22,
   "metadata": {},
   "outputs": [
    {
     "data": {
      "text/plain": [
       "array([[-1.55361288e-05,  7.98448538e-02, -1.52903796e-16]])"
      ]
     },
     "execution_count": 22,
     "metadata": {},
     "output_type": "execute_result"
    }
   ],
   "source": [
    "reg.coef_"
   ]
  },
  {
   "cell_type": "code",
   "execution_count": 23,
   "metadata": {},
   "outputs": [
    {
     "data": {
      "text/plain": [
       "array([-2613.81671192])"
      ]
     },
     "execution_count": 23,
     "metadata": {},
     "output_type": "execute_result"
    }
   ],
   "source": [
    "reg.intercept_"
   ]
  },
  {
   "cell_type": "markdown",
   "metadata": {},
   "source": [
    "# by time"
   ]
  },
  {
   "cell_type": "code",
   "execution_count": 12,
   "metadata": {},
   "outputs": [],
   "source": [
    "df_time = df.groupby(['年份']).mean()"
   ]
  },
  {
   "cell_type": "code",
   "execution_count": 13,
   "metadata": {},
   "outputs": [
    {
     "data": {
      "text/html": [
       "<div>\n",
       "<style scoped>\n",
       "    .dataframe tbody tr th:only-of-type {\n",
       "        vertical-align: middle;\n",
       "    }\n",
       "\n",
       "    .dataframe tbody tr th {\n",
       "        vertical-align: top;\n",
       "    }\n",
       "\n",
       "    .dataframe thead th {\n",
       "        text-align: right;\n",
       "    }\n",
       "</style>\n",
       "<table border=\"1\" class=\"dataframe\">\n",
       "  <thead>\n",
       "    <tr style=\"text-align: right;\">\n",
       "      <th></th>\n",
       "      <th>新建商品住宅价格（元/m^2）</th>\n",
       "      <th>人口（万人）</th>\n",
       "      <th>平均工资（元）</th>\n",
       "      <th>M2(亿元)</th>\n",
       "    </tr>\n",
       "    <tr>\n",
       "      <th>年份</th>\n",
       "      <th></th>\n",
       "      <th></th>\n",
       "      <th></th>\n",
       "      <th></th>\n",
       "    </tr>\n",
       "  </thead>\n",
       "  <tbody>\n",
       "    <tr>\n",
       "      <th>2006</th>\n",
       "      <td>56.849492</td>\n",
       "      <td>417958.262969</td>\n",
       "      <td>21630.386875</td>\n",
       "      <td>322611.51</td>\n",
       "    </tr>\n",
       "    <tr>\n",
       "      <th>2007</th>\n",
       "      <td>124.682381</td>\n",
       "      <td>424178.349219</td>\n",
       "      <td>25389.882031</td>\n",
       "      <td>379224.30</td>\n",
       "    </tr>\n",
       "    <tr>\n",
       "      <th>2008</th>\n",
       "      <td>242.639265</td>\n",
       "      <td>428242.504844</td>\n",
       "      <td>29278.408750</td>\n",
       "      <td>442138.92</td>\n",
       "    </tr>\n",
       "    <tr>\n",
       "      <th>2009</th>\n",
       "      <td>349.944806</td>\n",
       "      <td>432049.818281</td>\n",
       "      <td>32612.093594</td>\n",
       "      <td>559817.56</td>\n",
       "    </tr>\n",
       "    <tr>\n",
       "      <th>2010</th>\n",
       "      <td>847.111482</td>\n",
       "      <td>442590.721875</td>\n",
       "      <td>36713.929062</td>\n",
       "      <td>674960.52</td>\n",
       "    </tr>\n",
       "    <tr>\n",
       "      <th>2011</th>\n",
       "      <td>938.767750</td>\n",
       "      <td>445797.803438</td>\n",
       "      <td>41624.976406</td>\n",
       "      <td>780405.72</td>\n",
       "    </tr>\n",
       "    <tr>\n",
       "      <th>2012</th>\n",
       "      <td>468.139395</td>\n",
       "      <td>447885.063594</td>\n",
       "      <td>46848.517500</td>\n",
       "      <td>914693.42</td>\n",
       "    </tr>\n",
       "    <tr>\n",
       "      <th>2013</th>\n",
       "      <td>615.156740</td>\n",
       "      <td>450387.436250</td>\n",
       "      <td>54076.426250</td>\n",
       "      <td>1050214.13</td>\n",
       "    </tr>\n",
       "    <tr>\n",
       "      <th>2014</th>\n",
       "      <td>792.545181</td>\n",
       "      <td>454304.165312</td>\n",
       "      <td>56745.747812</td>\n",
       "      <td>1183890.00</td>\n",
       "    </tr>\n",
       "    <tr>\n",
       "      <th>2015</th>\n",
       "      <td>484.268988</td>\n",
       "      <td>457054.645469</td>\n",
       "      <td>62398.734375</td>\n",
       "      <td>1324511.12</td>\n",
       "    </tr>\n",
       "    <tr>\n",
       "      <th>2016</th>\n",
       "      <td>1511.135113</td>\n",
       "      <td>460712.818281</td>\n",
       "      <td>68127.203125</td>\n",
       "      <td>1483618.25</td>\n",
       "    </tr>\n",
       "    <tr>\n",
       "      <th>2017</th>\n",
       "      <td>3018.477096</td>\n",
       "      <td>464971.115625</td>\n",
       "      <td>75685.093750</td>\n",
       "      <td>1626456.20</td>\n",
       "    </tr>\n",
       "    <tr>\n",
       "      <th>2018</th>\n",
       "      <td>3948.784017</td>\n",
       "      <td>469011.217500</td>\n",
       "      <td>82811.742188</td>\n",
       "      <td>1770223.58</td>\n",
       "    </tr>\n",
       "    <tr>\n",
       "      <th>2019</th>\n",
       "      <td>7451.291941</td>\n",
       "      <td>472684.474687</td>\n",
       "      <td>90985.875000</td>\n",
       "      <td>1918385.98</td>\n",
       "    </tr>\n",
       "  </tbody>\n",
       "</table>\n",
       "</div>"
      ],
      "text/plain": [
       "      新建商品住宅价格（元/m^2）         人口（万人）       平均工资（元）      M2(亿元)\n",
       "年份                                                            \n",
       "2006        56.849492  417958.262969  21630.386875   322611.51\n",
       "2007       124.682381  424178.349219  25389.882031   379224.30\n",
       "2008       242.639265  428242.504844  29278.408750   442138.92\n",
       "2009       349.944806  432049.818281  32612.093594   559817.56\n",
       "2010       847.111482  442590.721875  36713.929062   674960.52\n",
       "2011       938.767750  445797.803438  41624.976406   780405.72\n",
       "2012       468.139395  447885.063594  46848.517500   914693.42\n",
       "2013       615.156740  450387.436250  54076.426250  1050214.13\n",
       "2014       792.545181  454304.165312  56745.747812  1183890.00\n",
       "2015       484.268988  457054.645469  62398.734375  1324511.12\n",
       "2016      1511.135113  460712.818281  68127.203125  1483618.25\n",
       "2017      3018.477096  464971.115625  75685.093750  1626456.20\n",
       "2018      3948.784017  469011.217500  82811.742188  1770223.58\n",
       "2019      7451.291941  472684.474687  90985.875000  1918385.98"
      ]
     },
     "execution_count": 13,
     "metadata": {},
     "output_type": "execute_result"
    }
   ],
   "source": [
    "df_time"
   ]
  },
  {
   "cell_type": "code",
   "execution_count": 17,
   "metadata": {},
   "outputs": [
    {
     "data": {
      "text/plain": [
       "LinearRegression()"
      ]
     },
     "execution_count": 17,
     "metadata": {},
     "output_type": "execute_result"
    }
   ],
   "source": [
    "reg.fit(df_time[['人口（万人）','平均工资（元）','M2(亿元)']],df_time[['新建商品住宅价格（元/m^2）']])"
   ]
  },
  {
   "cell_type": "code",
   "execution_count": 18,
   "metadata": {},
   "outputs": [
    {
     "data": {
      "text/plain": [
       "array([[-0.09666658,  0.64540699, -0.02054867]])"
      ]
     },
     "execution_count": 18,
     "metadata": {},
     "output_type": "execute_result"
    }
   ],
   "source": [
    "reg.coef_"
   ]
  },
  {
   "cell_type": "code",
   "execution_count": 19,
   "metadata": {},
   "outputs": [
    {
     "data": {
      "text/plain": [
       "array([32529.00791954])"
      ]
     },
     "execution_count": 19,
     "metadata": {},
     "output_type": "execute_result"
    }
   ],
   "source": [
    "reg.intercept_"
   ]
  },
  {
   "cell_type": "markdown",
   "metadata": {},
   "source": [
    "# single city with time"
   ]
  },
  {
   "cell_type": "code",
   "execution_count": 24,
   "metadata": {},
   "outputs": [],
   "source": [
    "df_beijing = df[df['城市']=='北京']"
   ]
  },
  {
   "cell_type": "code",
   "execution_count": 25,
   "metadata": {},
   "outputs": [
    {
     "data": {
      "text/html": [
       "<div>\n",
       "<style scoped>\n",
       "    .dataframe tbody tr th:only-of-type {\n",
       "        vertical-align: middle;\n",
       "    }\n",
       "\n",
       "    .dataframe tbody tr th {\n",
       "        vertical-align: top;\n",
       "    }\n",
       "\n",
       "    .dataframe thead th {\n",
       "        text-align: right;\n",
       "    }\n",
       "</style>\n",
       "<table border=\"1\" class=\"dataframe\">\n",
       "  <thead>\n",
       "    <tr style=\"text-align: right;\">\n",
       "      <th></th>\n",
       "      <th>年份</th>\n",
       "      <th>城市</th>\n",
       "      <th>新建商品住宅价格（元/m^2）</th>\n",
       "      <th>人口（万人）</th>\n",
       "      <th>类型</th>\n",
       "      <th>平均工资（元）</th>\n",
       "      <th>M2(亿元)</th>\n",
       "    </tr>\n",
       "  </thead>\n",
       "  <tbody>\n",
       "    <tr>\n",
       "      <th>0</th>\n",
       "      <td>2019</td>\n",
       "      <td>北京</td>\n",
       "      <td>23667.934020</td>\n",
       "      <td>2153.6</td>\n",
       "      <td>常住人口</td>\n",
       "      <td>173205.00</td>\n",
       "      <td>1918385.98</td>\n",
       "    </tr>\n",
       "    <tr>\n",
       "      <th>64</th>\n",
       "      <td>2018</td>\n",
       "      <td>北京</td>\n",
       "      <td>16271.579360</td>\n",
       "      <td>2154.2</td>\n",
       "      <td>常住人口</td>\n",
       "      <td>149843.00</td>\n",
       "      <td>1770223.58</td>\n",
       "    </tr>\n",
       "    <tr>\n",
       "      <th>128</th>\n",
       "      <td>2017</td>\n",
       "      <td>北京</td>\n",
       "      <td>16300.373300</td>\n",
       "      <td>2170.7</td>\n",
       "      <td>常住人口</td>\n",
       "      <td>134994.00</td>\n",
       "      <td>1626456.20</td>\n",
       "    </tr>\n",
       "    <tr>\n",
       "      <th>192</th>\n",
       "      <td>2016</td>\n",
       "      <td>北京</td>\n",
       "      <td>7643.310796</td>\n",
       "      <td>2172.9</td>\n",
       "      <td>常住人口</td>\n",
       "      <td>122749.00</td>\n",
       "      <td>1483618.25</td>\n",
       "    </tr>\n",
       "    <tr>\n",
       "      <th>256</th>\n",
       "      <td>2015</td>\n",
       "      <td>北京</td>\n",
       "      <td>1046.264592</td>\n",
       "      <td>2170.5</td>\n",
       "      <td>常住人口</td>\n",
       "      <td>113073.00</td>\n",
       "      <td>1324511.12</td>\n",
       "    </tr>\n",
       "    <tr>\n",
       "      <th>320</th>\n",
       "      <td>2014</td>\n",
       "      <td>北京</td>\n",
       "      <td>1034.169895</td>\n",
       "      <td>2151.6</td>\n",
       "      <td>常住人口</td>\n",
       "      <td>103400.00</td>\n",
       "      <td>1183890.00</td>\n",
       "    </tr>\n",
       "    <tr>\n",
       "      <th>384</th>\n",
       "      <td>2013</td>\n",
       "      <td>北京</td>\n",
       "      <td>561.001462</td>\n",
       "      <td>2114.8</td>\n",
       "      <td>常住人口</td>\n",
       "      <td>93997.00</td>\n",
       "      <td>1050214.13</td>\n",
       "    </tr>\n",
       "    <tr>\n",
       "      <th>448</th>\n",
       "      <td>2012</td>\n",
       "      <td>北京</td>\n",
       "      <td>146.532335</td>\n",
       "      <td>2069.3</td>\n",
       "      <td>常住人口</td>\n",
       "      <td>85306.02</td>\n",
       "      <td>914693.42</td>\n",
       "    </tr>\n",
       "    <tr>\n",
       "      <th>512</th>\n",
       "      <td>2011</td>\n",
       "      <td>北京</td>\n",
       "      <td>156.201594</td>\n",
       "      <td>2018.6</td>\n",
       "      <td>常住人口</td>\n",
       "      <td>75834.61</td>\n",
       "      <td>780405.72</td>\n",
       "    </tr>\n",
       "    <tr>\n",
       "      <th>576</th>\n",
       "      <td>2010</td>\n",
       "      <td>北京</td>\n",
       "      <td>109.116057</td>\n",
       "      <td>1961.9</td>\n",
       "      <td>常住人口</td>\n",
       "      <td>65683.00</td>\n",
       "      <td>674960.52</td>\n",
       "    </tr>\n",
       "    <tr>\n",
       "      <th>640</th>\n",
       "      <td>2009</td>\n",
       "      <td>北京</td>\n",
       "      <td>27.169423</td>\n",
       "      <td>1860.0</td>\n",
       "      <td>常住人口</td>\n",
       "      <td>58140.00</td>\n",
       "      <td>559817.56</td>\n",
       "    </tr>\n",
       "    <tr>\n",
       "      <th>704</th>\n",
       "      <td>2008</td>\n",
       "      <td>北京</td>\n",
       "      <td>23.706479</td>\n",
       "      <td>1771.0</td>\n",
       "      <td>常住人口</td>\n",
       "      <td>56328.00</td>\n",
       "      <td>442138.92</td>\n",
       "    </tr>\n",
       "    <tr>\n",
       "      <th>768</th>\n",
       "      <td>2007</td>\n",
       "      <td>北京</td>\n",
       "      <td>9.748525</td>\n",
       "      <td>1676.0</td>\n",
       "      <td>常住人口</td>\n",
       "      <td>46507.00</td>\n",
       "      <td>379224.30</td>\n",
       "    </tr>\n",
       "    <tr>\n",
       "      <th>832</th>\n",
       "      <td>2006</td>\n",
       "      <td>北京</td>\n",
       "      <td>4.212843</td>\n",
       "      <td>1601.0</td>\n",
       "      <td>常住人口</td>\n",
       "      <td>40117.00</td>\n",
       "      <td>322611.51</td>\n",
       "    </tr>\n",
       "  </tbody>\n",
       "</table>\n",
       "</div>"
      ],
      "text/plain": [
       "       年份  城市  新建商品住宅价格（元/m^2）  人口（万人）    类型    平均工资（元）      M2(亿元)\n",
       "0    2019  北京     23667.934020  2153.6  常住人口  173205.00  1918385.98\n",
       "64   2018  北京     16271.579360  2154.2  常住人口  149843.00  1770223.58\n",
       "128  2017  北京     16300.373300  2170.7  常住人口  134994.00  1626456.20\n",
       "192  2016  北京      7643.310796  2172.9  常住人口  122749.00  1483618.25\n",
       "256  2015  北京      1046.264592  2170.5  常住人口  113073.00  1324511.12\n",
       "320  2014  北京      1034.169895  2151.6  常住人口  103400.00  1183890.00\n",
       "384  2013  北京       561.001462  2114.8  常住人口   93997.00  1050214.13\n",
       "448  2012  北京       146.532335  2069.3  常住人口   85306.02   914693.42\n",
       "512  2011  北京       156.201594  2018.6  常住人口   75834.61   780405.72\n",
       "576  2010  北京       109.116057  1961.9  常住人口   65683.00   674960.52\n",
       "640  2009  北京        27.169423  1860.0  常住人口   58140.00   559817.56\n",
       "704  2008  北京        23.706479  1771.0  常住人口   56328.00   442138.92\n",
       "768  2007  北京         9.748525  1676.0  常住人口   46507.00   379224.30\n",
       "832  2006  北京         4.212843  1601.0  常住人口   40117.00   322611.51"
      ]
     },
     "execution_count": 25,
     "metadata": {},
     "output_type": "execute_result"
    }
   ],
   "source": [
    "df_beijing"
   ]
  },
  {
   "cell_type": "code",
   "execution_count": 26,
   "metadata": {},
   "outputs": [
    {
     "data": {
      "text/plain": [
       "LinearRegression()"
      ]
     },
     "execution_count": 26,
     "metadata": {},
     "output_type": "execute_result"
    }
   ],
   "source": [
    "reg.fit(df_beijing[['人口（万人）','平均工资（元）','M2(亿元)']],df_beijing[['新建商品住宅价格（元/m^2）']])"
   ]
  },
  {
   "cell_type": "code",
   "execution_count": 27,
   "metadata": {},
   "outputs": [
    {
     "data": {
      "text/plain": [
       "array([[-3.17886026e+01,  2.65304655e-01,  2.83238598e-03]])"
      ]
     },
     "execution_count": 27,
     "metadata": {},
     "output_type": "execute_result"
    }
   ],
   "source": [
    "reg.coef_"
   ]
  },
  {
   "cell_type": "code",
   "execution_count": 28,
   "metadata": {},
   "outputs": [
    {
     "data": {
      "text/plain": [
       "array([40549.23982948])"
      ]
     },
     "execution_count": 28,
     "metadata": {},
     "output_type": "execute_result"
    }
   ],
   "source": [
    "reg.intercept_"
   ]
  },
  {
   "cell_type": "code",
   "execution_count": 31,
   "metadata": {},
   "outputs": [
    {
     "data": {
      "text/plain": [
       "<matplotlib.collections.PathCollection at 0x7fc7ac324f40>"
      ]
     },
     "execution_count": 31,
     "metadata": {},
     "output_type": "execute_result"
    },
    {
     "data": {
      "image/png": "[encoded data removed]",
      "text/plain": [
       "<Figure size 432x288 with 1 Axes>"
      ]
     },
     "metadata": {
      "needs_background": "light"
     },
     "output_type": "display_data"
    }
   ],
   "source": [
    "x = df_beijing[['人口（万人）']]\n",
    "y = df_beijing[['新建商品住宅价格（元/m^2）']]\n",
    "plt.scatter(x,y)"
   ]
  },
  {
   "cell_type": "code",
   "execution_count": 32,
   "metadata": {},
   "outputs": [
    {
     "data": {
      "text/plain": [
       "<matplotlib.collections.PathCollection at 0x7fc7ac5665b0>"
      ]
     },
     "execution_count": 32,
     "metadata": {},
     "output_type": "execute_result"
    },
    {
     "data": {
      "image/png": "[encoded data removed]",
      "text/plain": [
       "<Figure size 432x288 with 1 Axes>"
      ]
     },
     "metadata": {
      "needs_background": "light"
     },
     "output_type": "display_data"
    }
   ],
   "source": [
    "x = df_beijing[['平均工资（元）']]\n",
    "y = df_beijing[['新建商品住宅价格（元/m^2）']]\n",
    "plt.scatter(x,y)"
   ]
  },
  {
   "cell_type": "code",
   "execution_count": 33,
   "metadata": {},
   "outputs": [
    {
     "data": {
      "text/plain": [
       "<matplotlib.collections.PathCollection at 0x7fc7ac491f70>"
      ]
     },
     "execution_count": 33,
     "metadata": {},
     "output_type": "execute_result"
    },
    {
     "data": {
      "image/png": "[encoded data removed]",
      "text/plain": [
       "<Figure size 432x288 with 1 Axes>"
      ]
     },
     "metadata": {
      "needs_background": "light"
     },
     "output_type": "display_data"
    }
   ],
   "source": [
    "x = df_beijing[['M2(亿元)']]\n",
    "y = df_beijing[['新建商品住宅价格（元/m^2）']]\n",
    "plt.scatter(x,y)"
   ]
  },
  {
   "cell_type": "code",
   "execution_count": null,
   "metadata": {},
   "outputs": [],
   "source": []
  }
 ],
 "metadata": {
  "kernelspec": {
   "display_name": "Python 3",
   "language": "python",
   "name": "python3"
  },
  "language_info": {
   "codemirror_mode": {
    "name": "ipython",
    "version": 3
   },
   "file_extension": ".py",
   "mimetype": "text/x-python",
   "name": "python",
   "nbconvert_exporter": "python",
   "pygments_lexer": "ipython3",
   "version": "3.8.3"
  }
 },
 "nbformat": 4,
 "nbformat_minor": 4
}
